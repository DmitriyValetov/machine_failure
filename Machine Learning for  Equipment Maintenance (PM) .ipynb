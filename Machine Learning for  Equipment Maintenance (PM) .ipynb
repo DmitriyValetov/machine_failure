{
    "cells": [
        {
            "cell_type": "markdown",
            "metadata": {},
            "source": "# Machine Learning for Equipment Failure Prediction and Equipment Maintenance (PM)"
        },
        {
            "cell_type": "markdown",
            "metadata": {},
            "source": "In this notebook, I examine machine failure/predictive maintenance. Predictive Maintenance (PM) is a very common problem in many industries. \n\nOne common issue experienced with PM problems is that machines do not break very often. Think about it.  If a machine breaks all the time, people won't buy it. Modern machines are designed and engineered to last. This means when we try to predict failure, we usually only have a few failures to draw on. In this notebook, we will use a data set that has a failure rate of .14%. In my experience, that is on the high side. The failure rate for most machines is lower than this. In this notebook, I use a few techniques that deal with the small number of failures.\n\nThe firm in question provided a sample of data that includes 419 machines that failed over a two year period. On average, when a machine in the sample failed, the firm lost 28,000 dollars. Some of the machines were fixed before they failed, limiting production losses. Others, failed unexpectedly and without warning. \n\nWhen there is no warning, the firm scrambled to augment production processes but inevitably lost production and future sales.  If the firm was able to anticipate failure before it occurred, they could minimize the impact on lost production by doing repairs during off hours or shifting production from one machine to another.\n\nOur goal is to develop a predictive model that gives a warning before failure and allows the firm to minimize production losses.\n\nAfter a preliminary review, it is estimated that fixing a machine before it breaks costs about 1,500 dollars. Fixing a machine that is not broken, costs about 7,500 dollars. A machine that fails unexpectedly and without warning costs the firm 30,000 dollars in repair costs and lost production.  Based on this economics, it is clearly in the firms interest to understand the health of their machines and fix them before they break.\n\n\nThe goal is to build a predictive model that predicts machine failure within nine months of failure. Nine months is reasonable because these particular machines are designed to last at least six years.\nOur objective is to develop a solution that will lower the costs of failure. Again, it currently costs the firm about 28,000 per machine. We will attempt to lower this cost.\n\nAn important note about the data.  The data is completely fake.  It is data that I created based on my experience of dealing with these types of problems.  Although it is completely fake, I believe the data and use case are very realistic and consistent with many real problems I faced working in PM.\n\n"
        },
        {
            "cell_type": "markdown",
            "metadata": {},
            "source": "## Table of Contents"
        },
        {
            "cell_type": "markdown",
            "metadata": {},
            "source": "1. [Getting Setup](#setup1)<br>\n \n2. [Data Exploration](#explore)<br>\n\n3. [Data Transformation and Feature Engineering](#trans)<br>\n \n4. [Dealing with the Small Number of Failures](#small)<br>\n    4.1 [Expand the Failure Window](#window)<br>\n    4.2 [Create Testing, Training and Validation Groups](#groups)<br>\n    4.3 [SMOTE the Training Data](#smote)<br>\n5. [More Data Transformations and Feature Engineering](#more)<br>\n6. [Build the Model on the Balanced Data Set](#build)<br>\n7. [Score the Unbalanced Training Data Set](#score)<br>\n8. [Business Rules and Heuristics](#bus)<br>\n9. [Define a True Positive, True Negative, False Positive and False Negative](#tp)<br>\n10. [Apply Model and Heuristics to the Testing and Validation Data Sets](#apply)<br>\n11. [Conclusions](#conc)<br>"
        },
        {
            "cell_type": "markdown",
            "metadata": {},
            "source": "## 1.0 Getting Set-Up <a id=\"setup1\"></a>"
        },
        {
            "cell_type": "markdown",
            "metadata": {},
            "source": " Install all of the relevant Python Libraries"
        },
        {
            "cell_type": "code",
            "execution_count": 1,
            "metadata": {},
            "outputs": [
                {
                    "name": "stdout",
                    "output_type": "stream",
                    "text": "Collecting numpy\n\u001b[?25l  Downloading https://files.pythonhosted.org/packages/62/20/4d43e141b5bc426ba38274933ef8e76e85c7adea2c321ecf9ebf7421cedf/numpy-1.18.1-cp36-cp36m-manylinux1_x86_64.whl (20.1MB)\n\u001b[K     |\u2588\u2588\u2588\u2588\u2588\u2588\u2588\u2588\u2588\u2588\u2588\u2588\u2588\u2588\u2588\u2588\u2588\u2588\u2588\u2588\u2588\u2588\u2588\u2588\u2588\u2588\u2588\u2588\u2588\u2588\u2588\u2588| 20.2MB 17.6MB/s eta 0:00:01\n\u001b[31mERROR: tensorflow 1.13.1 requires tensorboard<1.14.0,>=1.13.0, which is not installed.\u001b[0m\n\u001b[31mERROR: autoai-libs 1.10.5 has requirement pandas>=0.24.2, but you'll have pandas 0.24.1 which is incompatible.\u001b[0m\n\u001b[?25hInstalling collected packages: numpy\n  Found existing installation: numpy 1.15.4\n    Uninstalling numpy-1.15.4:\n      Successfully uninstalled numpy-1.15.4\nSuccessfully installed numpy-1.18.1\nCollecting imblearn\n  Downloading https://files.pythonhosted.org/packages/81/a7/4179e6ebfd654bd0eac0b9c06125b8b4c96a9d0a8ff9e9507eb2a26d2d7e/imblearn-0.0-py2.py3-none-any.whl\nCollecting imbalanced-learn (from imblearn)\n\u001b[?25l  Downloading https://files.pythonhosted.org/packages/c8/73/36a13185c2acff44d601dc6107b5347e075561a49e15ddd4e69988414c3e/imbalanced_learn-0.6.2-py3-none-any.whl (163kB)\n\u001b[K     |\u2588\u2588\u2588\u2588\u2588\u2588\u2588\u2588\u2588\u2588\u2588\u2588\u2588\u2588\u2588\u2588\u2588\u2588\u2588\u2588\u2588\u2588\u2588\u2588\u2588\u2588\u2588\u2588\u2588\u2588\u2588\u2588| 163kB 15.9MB/s eta 0:00:01\n\u001b[?25hRequirement already satisfied, skipping upgrade: numpy>=1.11 in /opt/conda/envs/Python36/lib/python3.6/site-packages (from imbalanced-learn->imblearn) (1.18.1)\nRequirement already satisfied, skipping upgrade: scipy>=0.17 in /opt/conda/envs/Python36/lib/python3.6/site-packages (from imbalanced-learn->imblearn) (1.2.0)\nCollecting scikit-learn>=0.22 (from imbalanced-learn->imblearn)\n\u001b[?25l  Downloading https://files.pythonhosted.org/packages/e1/7f/366dcba1ba076a88a50bea732dbc033c0c5bbf7876010e6edc67948579d5/scikit_learn-0.22.2-cp36-cp36m-manylinux1_x86_64.whl (7.1MB)\n\u001b[K     |\u2588\u2588\u2588\u2588\u2588\u2588\u2588\u2588\u2588\u2588\u2588\u2588\u2588\u2588\u2588\u2588\u2588\u2588\u2588\u2588\u2588\u2588\u2588\u2588\u2588\u2588\u2588\u2588\u2588\u2588\u2588\u2588| 7.1MB 2.2MB/s eta 0:00:01\n\u001b[?25hCollecting joblib>=0.11 (from imbalanced-learn->imblearn)\n\u001b[?25l  Downloading https://files.pythonhosted.org/packages/28/5c/cf6a2b65a321c4a209efcdf64c2689efae2cb62661f8f6f4bb28547cf1bf/joblib-0.14.1-py2.py3-none-any.whl (294kB)\n\u001b[K     |\u2588\u2588\u2588\u2588\u2588\u2588\u2588\u2588\u2588\u2588\u2588\u2588\u2588\u2588\u2588\u2588\u2588\u2588\u2588\u2588\u2588\u2588\u2588\u2588\u2588\u2588\u2588\u2588\u2588\u2588\u2588\u2588| 296kB 66.3MB/s eta 0:00:01\n\u001b[31mERROR: autoai-libs 1.10.5 has requirement pandas>=0.24.2, but you'll have pandas 0.24.1 which is incompatible.\u001b[0m\n\u001b[31mERROR: autoai-libs 1.10.5 has requirement scikit-learn==0.20.3, but you'll have scikit-learn 0.22.2 which is incompatible.\u001b[0m\n\u001b[?25hInstalling collected packages: joblib, scikit-learn, imbalanced-learn, imblearn\n  Found existing installation: scikit-learn 0.20.3\n    Uninstalling scikit-learn-0.20.3:\n      Successfully uninstalled scikit-learn-0.20.3\nSuccessfully installed imbalanced-learn-0.6.2 imblearn-0.0 joblib-0.14.1 scikit-learn-0.22.2\nCollecting plotly\n\u001b[?25l  Downloading https://files.pythonhosted.org/packages/a9/12/7d795064f87d1070975e55daa443ff5e5ee7eb6c8a9eaf41f3d6a5f91a91/plotly-4.5.2-py2.py3-none-any.whl (7.1MB)\n\u001b[K     |\u2588\u2588\u2588\u2588\u2588\u2588\u2588\u2588\u2588\u2588\u2588\u2588\u2588\u2588\u2588\u2588\u2588\u2588\u2588\u2588\u2588\u2588\u2588\u2588\u2588\u2588\u2588\u2588\u2588\u2588\u2588\u2588| 7.1MB 11.0MB/s eta 0:00:01\n\u001b[?25hRequirement already satisfied, skipping upgrade: retrying>=1.3.3 in /opt/conda/envs/Python36/lib/python3.6/site-packages (from plotly) (1.3.3)\nRequirement already satisfied, skipping upgrade: six in /opt/conda/envs/Python36/lib/python3.6/site-packages (from plotly) (1.12.0)\nInstalling collected packages: plotly\n  Found existing installation: plotly 3.6.1\n    Uninstalling plotly-3.6.1:\n      Successfully uninstalled plotly-3.6.1\nSuccessfully installed plotly-4.5.2\nCollecting chart-studio\n\u001b[?25l  Downloading https://files.pythonhosted.org/packages/b9/3f/d2f3f506ba1aaf109f549f8b01d1483cd3e324c5ebe6b206acee66efdf46/chart_studio-1.0.0-py3-none-any.whl (76kB)\n\u001b[K     |\u2588\u2588\u2588\u2588\u2588\u2588\u2588\u2588\u2588\u2588\u2588\u2588\u2588\u2588\u2588\u2588\u2588\u2588\u2588\u2588\u2588\u2588\u2588\u2588\u2588\u2588\u2588\u2588\u2588\u2588\u2588\u2588| 81kB 7.2MB/s eta 0:00:011\n\u001b[?25hRequirement already satisfied, skipping upgrade: plotly in /opt/conda/envs/Python36/lib/python3.6/site-packages (from chart-studio) (4.5.2)\nRequirement already satisfied, skipping upgrade: six in /opt/conda/envs/Python36/lib/python3.6/site-packages (from chart-studio) (1.12.0)\nRequirement already satisfied, skipping upgrade: requests in /opt/conda/envs/Python36/lib/python3.6/site-packages (from chart-studio) (2.21.0)\nRequirement already satisfied, skipping upgrade: retrying>=1.3.3 in /opt/conda/envs/Python36/lib/python3.6/site-packages (from chart-studio) (1.3.3)\nRequirement already satisfied, skipping upgrade: certifi>=2017.4.17 in /opt/conda/envs/Python36/lib/python3.6/site-packages (from requests->chart-studio) (2019.11.28)\nRequirement already satisfied, skipping upgrade: urllib3<1.25,>=1.21.1 in /opt/conda/envs/Python36/lib/python3.6/site-packages (from requests->chart-studio) (1.24.1)\nRequirement already satisfied, skipping upgrade: chardet<3.1.0,>=3.0.2 in /opt/conda/envs/Python36/lib/python3.6/site-packages (from requests->chart-studio) (3.0.4)\nRequirement already satisfied, skipping upgrade: idna<2.9,>=2.5 in /opt/conda/envs/Python36/lib/python3.6/site-packages (from requests->chart-studio) (2.8)\nInstalling collected packages: chart-studio\nSuccessfully installed chart-studio-1.0.0\n"
                }
            ],
            "source": "!pip install --upgrade numpy \n!pip install imblearn --upgrade\n!pip install plotly --upgrade\n!pip install chart-studio --upgrade"
        },
        {
            "cell_type": "markdown",
            "metadata": {},
            "source": "Import required libraries"
        },
        {
            "cell_type": "code",
            "execution_count": 2,
            "metadata": {
                "scrolled": true
            },
            "outputs": [
                {
                    "name": "stderr",
                    "output_type": "stream",
                    "text": "Using TensorFlow backend.\n/opt/conda/envs/Python36/lib/python3.6/site-packages/tensorflow/python/framework/dtypes.py:526: FutureWarning:\n\nPassing (type, 1) or '1type' as a synonym of type is deprecated; in a future version of numpy, it will be understood as (type, (1,)) / '(1,)type'.\n\n/opt/conda/envs/Python36/lib/python3.6/site-packages/tensorflow/python/framework/dtypes.py:527: FutureWarning:\n\nPassing (type, 1) or '1type' as a synonym of type is deprecated; in a future version of numpy, it will be understood as (type, (1,)) / '(1,)type'.\n\n/opt/conda/envs/Python36/lib/python3.6/site-packages/tensorflow/python/framework/dtypes.py:528: FutureWarning:\n\nPassing (type, 1) or '1type' as a synonym of type is deprecated; in a future version of numpy, it will be understood as (type, (1,)) / '(1,)type'.\n\n/opt/conda/envs/Python36/lib/python3.6/site-packages/tensorflow/python/framework/dtypes.py:529: FutureWarning:\n\nPassing (type, 1) or '1type' as a synonym of type is deprecated; in a future version of numpy, it will be understood as (type, (1,)) / '(1,)type'.\n\n/opt/conda/envs/Python36/lib/python3.6/site-packages/tensorflow/python/framework/dtypes.py:530: FutureWarning:\n\nPassing (type, 1) or '1type' as a synonym of type is deprecated; in a future version of numpy, it will be understood as (type, (1,)) / '(1,)type'.\n\n/opt/conda/envs/Python36/lib/python3.6/site-packages/tensorflow/python/framework/dtypes.py:535: FutureWarning:\n\nPassing (type, 1) or '1type' as a synonym of type is deprecated; in a future version of numpy, it will be understood as (type, (1,)) / '(1,)type'.\n\n"
                }
            ],
            "source": "import chart_studio.plotly as py\nimport plotly.graph_objs as go\nimport numpy.dual as dual\nimport plotly as plotly\nimport pandas as pd\nfrom botocore.client import Config\nimport ibm_boto3\nimport numpy as np\nimport numpy.dual as dual\nfrom imblearn.over_sampling import SMOTE\nfrom imblearn.over_sampling import SMOTENC\nfrom sklearn import metrics\n\nfrom sklearn.preprocessing import LabelEncoder\n\nimport xgboost as xgb\nfrom xgboost.sklearn import XGBClassifier\n\nimport types\nimport pandas as pd\nfrom botocore.client import Config\nimport ibm_boto3\n\ndef __iter__(self): return 0\n\n\n"
        },
        {
            "cell_type": "markdown",
            "metadata": {},
            "source": "Import the data from GitHub"
        },
        {
            "cell_type": "code",
            "execution_count": 3,
            "metadata": {},
            "outputs": [
                {
                    "name": "stdout",
                    "output_type": "stream",
                    "text": "rm: cannot remove \u2018equipment_failure_data_1.csv\u2019: No such file or directory\r\n"
                }
            ],
            "source": "#Remove the data if you run this notebook more than once\n!rm equipment_failure_data_1.csv"
        },
        {
            "cell_type": "code",
            "execution_count": 4,
            "metadata": {},
            "outputs": [
                {
                    "name": "stdout",
                    "output_type": "stream",
                    "text": "--2020-03-02 15:33:20--  https://raw.githubusercontent.com/shadgriffin/machine_failure/master/equipment_failure_data_1.csv\nResolving raw.githubusercontent.com (raw.githubusercontent.com)... 151.101.48.133\nConnecting to raw.githubusercontent.com (raw.githubusercontent.com)|151.101.48.133|:443... connected.\nHTTP request sent, awaiting response... 200 OK\nLength: 13242366 (13M) [text/plain]\nSaving to: \u2018equipment_failure_data_1.csv\u2019\n\n100%[======================================>] 13,242,366  59.1MB/s   in 0.2s   \n\n2020-03-02 15:33:21 (59.1 MB/s) - \u2018equipment_failure_data_1.csv\u2019 saved [13242366/13242366]\n\n"
                }
            ],
            "source": "#import first half from github\n!wget https://raw.githubusercontent.com/shadgriffin/machine_failure/master/equipment_failure_data_1.csv"
        },
        {
            "cell_type": "code",
            "execution_count": 5,
            "metadata": {},
            "outputs": [],
            "source": "# Convert csv to pandas dataframe\npd_data_1 = pd.read_csv(\"equipment_failure_data_1.csv\", sep=\",\", header=0)"
        },
        {
            "cell_type": "code",
            "execution_count": 6,
            "metadata": {},
            "outputs": [
                {
                    "name": "stdout",
                    "output_type": "stream",
                    "text": "rm: cannot remove \u2018equipment_failure_data_2.csv\u2019: No such file or directory\r\n"
                }
            ],
            "source": "#Remove the data if you run this notebook more than once\n!rm equipment_failure_data_2.csv"
        },
        {
            "cell_type": "code",
            "execution_count": 7,
            "metadata": {},
            "outputs": [
                {
                    "name": "stdout",
                    "output_type": "stream",
                    "text": "--2020-03-02 15:33:23--  https://raw.githubusercontent.com/shadgriffin/machine_failure/master/equipment_failure_data_2.csv\nResolving raw.githubusercontent.com (raw.githubusercontent.com)... 199.232.8.133\nConnecting to raw.githubusercontent.com (raw.githubusercontent.com)|199.232.8.133|:443... connected.\nHTTP request sent, awaiting response... 200 OK\nLength: 13921190 (13M) [text/plain]\nSaving to: \u2018equipment_failure_data_2.csv\u2019\n\n100%[======================================>] 13,921,190  --.-K/s   in 0.1s    \n\n2020-03-02 15:33:24 (94.3 MB/s) - \u2018equipment_failure_data_2.csv\u2019 saved [13921190/13921190]\n\n"
                }
            ],
            "source": "#Import the second half from github\n!wget https://raw.githubusercontent.com/shadgriffin/machine_failure/master/equipment_failure_data_2.csv"
        },
        {
            "cell_type": "code",
            "execution_count": 8,
            "metadata": {},
            "outputs": [],
            "source": "# convert to pandas dataframe\npd_data_2 = pd.read_csv(\"equipment_failure_data_2.csv\", sep=\",\", header=0)"
        },
        {
            "cell_type": "code",
            "execution_count": 9,
            "metadata": {},
            "outputs": [],
            "source": "#concatenate the two data files into one dataframe\npd_data=pd.concat([pd_data_1, pd_data_2])\n\n"
        },
        {
            "cell_type": "markdown",
            "metadata": {},
            "source": "## 2.0 Data Exporation <a id=\"explore\"></a>"
        },
        {
            "cell_type": "code",
            "execution_count": 10,
            "metadata": {},
            "outputs": [
                {
                    "data": {
                        "text/html": "<div>\n<style scoped>\n    .dataframe tbody tr th:only-of-type {\n        vertical-align: middle;\n    }\n\n    .dataframe tbody tr th {\n        vertical-align: top;\n    }\n\n    .dataframe thead th {\n        text-align: right;\n    }\n</style>\n<table border=\"1\" class=\"dataframe\">\n  <thead>\n    <tr style=\"text-align: right;\">\n      <th></th>\n      <th>WELL_ID</th>\n      <th>DATE</th>\n      <th>REGION_CLUSTER</th>\n      <th>MAINTENANCE_VENDOR</th>\n      <th>MANUFACTURER</th>\n      <th>WELL_GROUP</th>\n      <th>S15</th>\n      <th>S17</th>\n      <th>S13</th>\n      <th>S5</th>\n      <th>S16</th>\n      <th>S19</th>\n      <th>S18</th>\n      <th>EQUIPMENT_FAILURE</th>\n      <th>S8</th>\n      <th>AGE_OF_EQUIPMENT</th>\n    </tr>\n  </thead>\n  <tbody>\n    <tr>\n      <th>0</th>\n      <td>100001.0</td>\n      <td>2014-12-02</td>\n      <td>G</td>\n      <td>O</td>\n      <td>Y</td>\n      <td>1</td>\n      <td>11.088000</td>\n      <td>145.223448</td>\n      <td>39.34</td>\n      <td>3501.0</td>\n      <td>8.426869</td>\n      <td>1.9</td>\n      <td>24.610345</td>\n      <td>0.0</td>\n      <td>0.0</td>\n      <td>880.0</td>\n    </tr>\n    <tr>\n      <th>1</th>\n      <td>100001.0</td>\n      <td>2014-12-03</td>\n      <td>G</td>\n      <td>O</td>\n      <td>Y</td>\n      <td>1</td>\n      <td>8.877943</td>\n      <td>187.573214</td>\n      <td>39.20</td>\n      <td>3489.0</td>\n      <td>6.483714</td>\n      <td>1.9</td>\n      <td>24.671429</td>\n      <td>0.0</td>\n      <td>0.0</td>\n      <td>881.0</td>\n    </tr>\n    <tr>\n      <th>2</th>\n      <td>100001.0</td>\n      <td>2014-12-04</td>\n      <td>G</td>\n      <td>O</td>\n      <td>Y</td>\n      <td>1</td>\n      <td>8.676444</td>\n      <td>148.363704</td>\n      <td>38.87</td>\n      <td>3459.0</td>\n      <td>6.159659</td>\n      <td>2.0</td>\n      <td>24.733333</td>\n      <td>0.0</td>\n      <td>0.0</td>\n      <td>882.0</td>\n    </tr>\n    <tr>\n      <th>3</th>\n      <td>100001.0</td>\n      <td>2014-12-05</td>\n      <td>G</td>\n      <td>O</td>\n      <td>Y</td>\n      <td>1</td>\n      <td>9.988338</td>\n      <td>133.660000</td>\n      <td>39.47</td>\n      <td>3513.0</td>\n      <td>9.320308</td>\n      <td>2.0</td>\n      <td>24.773077</td>\n      <td>0.0</td>\n      <td>0.0</td>\n      <td>883.0</td>\n    </tr>\n    <tr>\n      <th>4</th>\n      <td>100001.0</td>\n      <td>2014-12-06</td>\n      <td>G</td>\n      <td>O</td>\n      <td>Y</td>\n      <td>1</td>\n      <td>8.475264</td>\n      <td>197.181600</td>\n      <td>40.33</td>\n      <td>3589.0</td>\n      <td>8.022960</td>\n      <td>1.5</td>\n      <td>24.808000</td>\n      <td>0.0</td>\n      <td>0.0</td>\n      <td>884.0</td>\n    </tr>\n  </tbody>\n</table>\n</div>",
                        "text/plain": "    WELL_ID        DATE REGION_CLUSTER MAINTENANCE_VENDOR MANUFACTURER  \\\n0  100001.0  2014-12-02              G                  O            Y   \n1  100001.0  2014-12-03              G                  O            Y   \n2  100001.0  2014-12-04              G                  O            Y   \n3  100001.0  2014-12-05              G                  O            Y   \n4  100001.0  2014-12-06              G                  O            Y   \n\n   WELL_GROUP        S15         S17    S13      S5       S16  S19        S18  \\\n0           1  11.088000  145.223448  39.34  3501.0  8.426869  1.9  24.610345   \n1           1   8.877943  187.573214  39.20  3489.0  6.483714  1.9  24.671429   \n2           1   8.676444  148.363704  38.87  3459.0  6.159659  2.0  24.733333   \n3           1   9.988338  133.660000  39.47  3513.0  9.320308  2.0  24.773077   \n4           1   8.475264  197.181600  40.33  3589.0  8.022960  1.5  24.808000   \n\n   EQUIPMENT_FAILURE   S8  AGE_OF_EQUIPMENT  \n0                0.0  0.0             880.0  \n1                0.0  0.0             881.0  \n2                0.0  0.0             882.0  \n3                0.0  0.0             883.0  \n4                0.0  0.0             884.0  "
                    },
                    "execution_count": 10,
                    "metadata": {},
                    "output_type": "execute_result"
                }
            ],
            "source": "pd_data.head()"
        },
        {
            "cell_type": "markdown",
            "metadata": {},
            "source": "WELL_ID -- ID field that represents a specific machine.\n\nDATE -- The date of the observation.\n\nREGION_CLUSTER -- a field that represents the region in which the machine is located.\n\nMAINTENANCE_VENDOR -- a field that represents the company that provides maintenance and service to the machine.\n\nMANUFACTURER -- the company that manufactured the equipment in question.\n\nWELL_GROUP -- a field representing the type of Machine.\n\n\nEQUIPMENT_AGE -- Age of the machine, in days.\n\nS15 -- A Sensor Value.\n\nS17 -- A Sensor Value.\n\nS13 -- A Sensor Value.\n\nS16 -- A Sensor Value.\n\nS19 -- A Sensor Value.\n\nS18 -- A Sensor Value.\n\nS8  -- A Sensor Value.\n\nEQUIPMENT_FAILURE -- A '1' means that the equipment failed.  A '0' means the equipment did not fail.\n\n\nOur first goal in this exercise is to build a model that predicts equipment failure.  In other words, we will use the other useful variables in the data table to predict EQUIPMENT_FAILURE.\n\nNow we will walk through the data, gaining an understanding of what kind of data set we are dealing with in this example.\n\n\n"
        },
        {
            "cell_type": "markdown",
            "metadata": {},
            "source": "Examine the number of rows and columns.  The data has 307,751 rows and 16 columns"
        },
        {
            "cell_type": "code",
            "execution_count": 11,
            "metadata": {},
            "outputs": [
                {
                    "data": {
                        "text/plain": "(307751, 16)"
                    },
                    "execution_count": 11,
                    "metadata": {},
                    "output_type": "execute_result"
                }
            ],
            "source": "\npd_data.shape"
        },
        {
            "cell_type": "markdown",
            "metadata": {},
            "source": "There are 421 machines in the data set"
        },
        {
            "cell_type": "code",
            "execution_count": 12,
            "metadata": {},
            "outputs": [
                {
                    "data": {
                        "text/plain": "(421, 15)"
                    },
                    "execution_count": 12,
                    "metadata": {},
                    "output_type": "execute_result"
                }
            ],
            "source": "\nxxxx = pd.DataFrame(pd_data.groupby(['WELL_ID']).agg(['count']))\nxxxx.shape"
        },
        {
            "cell_type": "markdown",
            "metadata": {},
            "source": "there are 731 unique dates in the data set"
        },
        {
            "cell_type": "code",
            "execution_count": 13,
            "metadata": {},
            "outputs": [
                {
                    "data": {
                        "text/plain": "(731, 15)"
                    },
                    "execution_count": 13,
                    "metadata": {},
                    "output_type": "execute_result"
                }
            ],
            "source": "\nxxxx = pd.DataFrame(pd_data.groupby(['DATE']).agg(['count']))\nxxxx.shape"
        },
        {
            "cell_type": "markdown",
            "metadata": {},
            "source": "\nWe have 731 unique dates.  So if we have 421 machines and 731 unique dates, we should have 307,751 total records.  Based on the .shape command a few steps ago, we have one record per machine per date value.  There are no duplicates in the data frame.\n\n"
        },
        {
            "cell_type": "markdown",
            "metadata": {},
            "source": "And to triple confirm remove all duplicates and count the rows again."
        },
        {
            "cell_type": "code",
            "execution_count": 14,
            "metadata": {},
            "outputs": [
                {
                    "data": {
                        "text/plain": "(307751, 16)"
                    },
                    "execution_count": 14,
                    "metadata": {},
                    "output_type": "execute_result"
                }
            ],
            "source": "df_failure_thingy=pd_data\ndf_failure_thingy=df_failure_thingy.drop_duplicates(subset=['WELL_ID','DATE'])\ndf_failure_thingy.shape\n"
        },
        {
            "cell_type": "markdown",
            "metadata": {},
            "source": "Look for null values in the fields -- There are none"
        },
        {
            "cell_type": "code",
            "execution_count": 15,
            "metadata": {
                "scrolled": true
            },
            "outputs": [
                {
                    "data": {
                        "text/plain": "WELL_ID               0\nDATE                  0\nREGION_CLUSTER        0\nMAINTENANCE_VENDOR    0\nMANUFACTURER          0\nWELL_GROUP            0\nS15                   0\nS17                   0\nS13                   0\nS5                    0\nS16                   0\nS19                   0\nS18                   0\nEQUIPMENT_FAILURE     0\nS8                    0\nAGE_OF_EQUIPMENT      0\ndtype: int64"
                    },
                    "execution_count": 15,
                    "metadata": {},
                    "output_type": "execute_result"
                }
            ],
            "source": "pd_data.isnull().sum(axis = 0)"
        },
        {
            "cell_type": "markdown",
            "metadata": {},
            "source": "Now let's examine the dependent variable in more detail.  It appears that out of 307,751 records, we only have 421 failures.  This corresponds to a failure rate of about .14%.  In other words, for every failure you have over 700 non-failures.  This data set is very unbalanced."
        },
        {
            "cell_type": "code",
            "execution_count": 16,
            "metadata": {},
            "outputs": [
                {
                    "data": {
                        "text/html": "<div>\n<style scoped>\n    .dataframe tbody tr th:only-of-type {\n        vertical-align: middle;\n    }\n\n    .dataframe tbody tr th {\n        vertical-align: top;\n    }\n\n    .dataframe thead th {\n        text-align: right;\n    }\n</style>\n<table border=\"1\" class=\"dataframe\">\n  <thead>\n    <tr style=\"text-align: right;\">\n      <th></th>\n      <th>WELL_ID</th>\n    </tr>\n    <tr>\n      <th>EQUIPMENT_FAILURE</th>\n      <th></th>\n    </tr>\n  </thead>\n  <tbody>\n    <tr>\n      <th>0.0</th>\n      <td>307330</td>\n    </tr>\n    <tr>\n      <th>1.0</th>\n      <td>421</td>\n    </tr>\n  </tbody>\n</table>\n</div>",
                        "text/plain": "                   WELL_ID\nEQUIPMENT_FAILURE         \n0.0                 307330\n1.0                    421"
                    },
                    "execution_count": 16,
                    "metadata": {},
                    "output_type": "execute_result"
                }
            ],
            "source": "xxxx = pd.DataFrame(pd_data.groupby(['EQUIPMENT_FAILURE'])['WELL_ID'].agg('count'))\nxxxx"
        },
        {
            "cell_type": "markdown",
            "metadata": {},
            "source": "We can also explore the data with descriptive statistics"
        },
        {
            "cell_type": "code",
            "execution_count": 17,
            "metadata": {},
            "outputs": [
                {
                    "data": {
                        "text/html": "<div>\n<style scoped>\n    .dataframe tbody tr th:only-of-type {\n        vertical-align: middle;\n    }\n\n    .dataframe tbody tr th {\n        vertical-align: top;\n    }\n\n    .dataframe thead th {\n        text-align: right;\n    }\n</style>\n<table border=\"1\" class=\"dataframe\">\n  <thead>\n    <tr style=\"text-align: right;\">\n      <th></th>\n      <th>WELL_ID</th>\n      <th>WELL_GROUP</th>\n      <th>S15</th>\n      <th>S17</th>\n      <th>S13</th>\n      <th>S5</th>\n      <th>S16</th>\n      <th>S19</th>\n      <th>S18</th>\n      <th>EQUIPMENT_FAILURE</th>\n      <th>S8</th>\n      <th>AGE_OF_EQUIPMENT</th>\n    </tr>\n  </thead>\n  <tbody>\n    <tr>\n      <th>count</th>\n      <td>307751.000000</td>\n      <td>307751.000000</td>\n      <td>307751.000000</td>\n      <td>307751.000000</td>\n      <td>307751.000000</td>\n      <td>307751.000000</td>\n      <td>307751.000000</td>\n      <td>307751.000000</td>\n      <td>307751.000000</td>\n      <td>307751.000000</td>\n      <td>307751.000000</td>\n      <td>307751.000000</td>\n    </tr>\n    <tr>\n      <th>mean</th>\n      <td>100310.826603</td>\n      <td>4.543943</td>\n      <td>14.585192</td>\n      <td>80.265541</td>\n      <td>35.018249</td>\n      <td>4675.848252</td>\n      <td>7.972097</td>\n      <td>9.069123</td>\n      <td>137.963064</td>\n      <td>0.001368</td>\n      <td>144.665715</td>\n      <td>2524.192399</td>\n    </tr>\n    <tr>\n      <th>std</th>\n      <td>177.574390</td>\n      <td>2.284121</td>\n      <td>8.817056</td>\n      <td>85.804273</td>\n      <td>14.446585</td>\n      <td>2521.074632</td>\n      <td>2.321949</td>\n      <td>16.898887</td>\n      <td>238.890128</td>\n      <td>0.036961</td>\n      <td>240.773926</td>\n      <td>3158.930976</td>\n    </tr>\n    <tr>\n      <th>min</th>\n      <td>100001.000000</td>\n      <td>1.000000</td>\n      <td>0.000000</td>\n      <td>0.000000</td>\n      <td>0.000000</td>\n      <td>0.000000</td>\n      <td>0.000000</td>\n      <td>0.000000</td>\n      <td>0.000000</td>\n      <td>0.000000</td>\n      <td>-16.490000</td>\n      <td>0.000000</td>\n    </tr>\n    <tr>\n      <th>25%</th>\n      <td>100161.000000</td>\n      <td>3.000000</td>\n      <td>7.694100</td>\n      <td>0.000000</td>\n      <td>28.200000</td>\n      <td>3209.000000</td>\n      <td>6.621500</td>\n      <td>0.900000</td>\n      <td>11.798276</td>\n      <td>0.000000</td>\n      <td>9.250000</td>\n      <td>721.000000</td>\n    </tr>\n    <tr>\n      <th>50%</th>\n      <td>100311.000000</td>\n      <td>5.000000</td>\n      <td>11.661600</td>\n      <td>31.680000</td>\n      <td>34.940000</td>\n      <td>4237.047619</td>\n      <td>8.004000</td>\n      <td>4.200000</td>\n      <td>38.200000</td>\n      <td>0.000000</td>\n      <td>53.080000</td>\n      <td>1113.000000</td>\n    </tr>\n    <tr>\n      <th>75%</th>\n      <td>100467.000000</td>\n      <td>6.000000</td>\n      <td>22.560000</td>\n      <td>160.080000</td>\n      <td>41.610000</td>\n      <td>5743.000000</td>\n      <td>9.460000</td>\n      <td>10.600000</td>\n      <td>150.900000</td>\n      <td>0.000000</td>\n      <td>165.092608</td>\n      <td>2784.000000</td>\n    </tr>\n    <tr>\n      <th>max</th>\n      <td>100617.000000</td>\n      <td>8.000000</td>\n      <td>59.040000</td>\n      <td>2555.520000</td>\n      <td>592.890000</td>\n      <td>52767.000000</td>\n      <td>24.600000</td>\n      <td>511.000000</td>\n      <td>4151.700000</td>\n      <td>1.000000</td>\n      <td>2068.110000</td>\n      <td>15170.000000</td>\n    </tr>\n  </tbody>\n</table>\n</div>",
                        "text/plain": "             WELL_ID     WELL_GROUP            S15            S17  \\\ncount  307751.000000  307751.000000  307751.000000  307751.000000   \nmean   100310.826603       4.543943      14.585192      80.265541   \nstd       177.574390       2.284121       8.817056      85.804273   \nmin    100001.000000       1.000000       0.000000       0.000000   \n25%    100161.000000       3.000000       7.694100       0.000000   \n50%    100311.000000       5.000000      11.661600      31.680000   \n75%    100467.000000       6.000000      22.560000     160.080000   \nmax    100617.000000       8.000000      59.040000    2555.520000   \n\n                 S13             S5            S16            S19  \\\ncount  307751.000000  307751.000000  307751.000000  307751.000000   \nmean       35.018249    4675.848252       7.972097       9.069123   \nstd        14.446585    2521.074632       2.321949      16.898887   \nmin         0.000000       0.000000       0.000000       0.000000   \n25%        28.200000    3209.000000       6.621500       0.900000   \n50%        34.940000    4237.047619       8.004000       4.200000   \n75%        41.610000    5743.000000       9.460000      10.600000   \nmax       592.890000   52767.000000      24.600000     511.000000   \n\n                 S18  EQUIPMENT_FAILURE             S8  AGE_OF_EQUIPMENT  \ncount  307751.000000      307751.000000  307751.000000     307751.000000  \nmean      137.963064           0.001368     144.665715       2524.192399  \nstd       238.890128           0.036961     240.773926       3158.930976  \nmin         0.000000           0.000000     -16.490000          0.000000  \n25%        11.798276           0.000000       9.250000        721.000000  \n50%        38.200000           0.000000      53.080000       1113.000000  \n75%       150.900000           0.000000     165.092608       2784.000000  \nmax      4151.700000           1.000000    2068.110000      15170.000000  "
                    },
                    "execution_count": 17,
                    "metadata": {},
                    "output_type": "execute_result"
                }
            ],
            "source": "\npd_data.describe()"
        },
        {
            "cell_type": "markdown",
            "metadata": {},
            "source": "Examine a simple correlation of the independent variable with the dependent variable.  "
        },
        {
            "cell_type": "code",
            "execution_count": 18,
            "metadata": {},
            "outputs": [],
            "source": "xxx=pd_data.corr( method='pearson')\n\nxxx=xxx[['EQUIPMENT_FAILURE']]\nxxx['ABS_EQUIPMENT_FAILURE']=abs(xxx['EQUIPMENT_FAILURE'])\nxxx=xxx.sort_values(by=['ABS_EQUIPMENT_FAILURE'], ascending=[False])"
        },
        {
            "cell_type": "code",
            "execution_count": 19,
            "metadata": {
                "scrolled": true
            },
            "outputs": [
                {
                    "data": {
                        "text/html": "<div>\n<style scoped>\n    .dataframe tbody tr th:only-of-type {\n        vertical-align: middle;\n    }\n\n    .dataframe tbody tr th {\n        vertical-align: top;\n    }\n\n    .dataframe thead th {\n        text-align: right;\n    }\n</style>\n<table border=\"1\" class=\"dataframe\">\n  <thead>\n    <tr style=\"text-align: right;\">\n      <th></th>\n      <th>EQUIPMENT_FAILURE</th>\n      <th>ABS_EQUIPMENT_FAILURE</th>\n    </tr>\n  </thead>\n  <tbody>\n    <tr>\n      <th>EQUIPMENT_FAILURE</th>\n      <td>1.000000e+00</td>\n      <td>1.000000e+00</td>\n    </tr>\n    <tr>\n      <th>S15</th>\n      <td>-6.036352e-02</td>\n      <td>6.036352e-02</td>\n    </tr>\n    <tr>\n      <th>S17</th>\n      <td>-3.429070e-02</td>\n      <td>3.429070e-02</td>\n    </tr>\n    <tr>\n      <th>S18</th>\n      <td>9.765002e-03</td>\n      <td>9.765002e-03</td>\n    </tr>\n    <tr>\n      <th>S13</th>\n      <td>-8.617761e-03</td>\n      <td>8.617761e-03</td>\n    </tr>\n    <tr>\n      <th>S5</th>\n      <td>-7.189979e-03</td>\n      <td>7.189979e-03</td>\n    </tr>\n    <tr>\n      <th>S8</th>\n      <td>6.517148e-03</td>\n      <td>6.517148e-03</td>\n    </tr>\n    <tr>\n      <th>S16</th>\n      <td>-6.138895e-03</td>\n      <td>6.138895e-03</td>\n    </tr>\n    <tr>\n      <th>S19</th>\n      <td>-6.087474e-03</td>\n      <td>6.087474e-03</td>\n    </tr>\n    <tr>\n      <th>AGE_OF_EQUIPMENT</th>\n      <td>4.733368e-04</td>\n      <td>4.733368e-04</td>\n    </tr>\n    <tr>\n      <th>WELL_GROUP</th>\n      <td>7.048348e-17</td>\n      <td>7.048348e-17</td>\n    </tr>\n    <tr>\n      <th>WELL_ID</th>\n      <td>2.959871e-18</td>\n      <td>2.959871e-18</td>\n    </tr>\n  </tbody>\n</table>\n</div>",
                        "text/plain": "                   EQUIPMENT_FAILURE  ABS_EQUIPMENT_FAILURE\nEQUIPMENT_FAILURE       1.000000e+00           1.000000e+00\nS15                    -6.036352e-02           6.036352e-02\nS17                    -3.429070e-02           3.429070e-02\nS18                     9.765002e-03           9.765002e-03\nS13                    -8.617761e-03           8.617761e-03\nS5                     -7.189979e-03           7.189979e-03\nS8                      6.517148e-03           6.517148e-03\nS16                    -6.138895e-03           6.138895e-03\nS19                    -6.087474e-03           6.087474e-03\nAGE_OF_EQUIPMENT        4.733368e-04           4.733368e-04\nWELL_GROUP              7.048348e-17           7.048348e-17\nWELL_ID                 2.959871e-18           2.959871e-18"
                    },
                    "execution_count": 19,
                    "metadata": {},
                    "output_type": "execute_result"
                }
            ],
            "source": "xxx"
        },
        {
            "cell_type": "markdown",
            "metadata": {},
            "source": "## 3.0 Data transformations and Feature Engineering <a id=\"trans\"></a>"
        },
        {
            "cell_type": "markdown",
            "metadata": {},
            "source": "Convert dates from character to dates"
        },
        {
            "cell_type": "code",
            "execution_count": 20,
            "metadata": {
                "scrolled": true
            },
            "outputs": [],
            "source": "\n\npd_data['DATE'] = pd.to_datetime(pd_data['DATE'])\n\n\n\n"
        },
        {
            "cell_type": "markdown",
            "metadata": {},
            "source": "Create a new field called \"flipper\" that indicates when a the well_id changes as the data is sorted by WELL_ID and DATE in ascending order.  We will use this in a few other transformations."
        },
        {
            "cell_type": "code",
            "execution_count": 21,
            "metadata": {},
            "outputs": [
                {
                    "data": {
                        "text/html": "<div>\n<style scoped>\n    .dataframe tbody tr th:only-of-type {\n        vertical-align: middle;\n    }\n\n    .dataframe tbody tr th {\n        vertical-align: top;\n    }\n\n    .dataframe thead th {\n        text-align: right;\n    }\n</style>\n<table border=\"1\" class=\"dataframe\">\n  <thead>\n    <tr style=\"text-align: right;\">\n      <th></th>\n      <th>WELL_ID</th>\n      <th>DATE</th>\n      <th>REGION_CLUSTER</th>\n      <th>MAINTENANCE_VENDOR</th>\n      <th>MANUFACTURER</th>\n      <th>WELL_GROUP</th>\n      <th>S15</th>\n      <th>S17</th>\n      <th>S13</th>\n      <th>S5</th>\n      <th>S16</th>\n      <th>S19</th>\n      <th>S18</th>\n      <th>EQUIPMENT_FAILURE</th>\n      <th>S8</th>\n      <th>AGE_OF_EQUIPMENT</th>\n      <th>flipper</th>\n    </tr>\n  </thead>\n  <tbody>\n    <tr>\n      <th>0</th>\n      <td>100001.0</td>\n      <td>2014-12-02</td>\n      <td>G</td>\n      <td>O</td>\n      <td>Y</td>\n      <td>1</td>\n      <td>11.088000</td>\n      <td>145.223448</td>\n      <td>39.34</td>\n      <td>3501.0</td>\n      <td>8.426869</td>\n      <td>1.9</td>\n      <td>24.610345</td>\n      <td>0.0</td>\n      <td>0.0</td>\n      <td>880.0</td>\n      <td>1</td>\n    </tr>\n    <tr>\n      <th>1</th>\n      <td>100001.0</td>\n      <td>2014-12-03</td>\n      <td>G</td>\n      <td>O</td>\n      <td>Y</td>\n      <td>1</td>\n      <td>8.877943</td>\n      <td>187.573214</td>\n      <td>39.20</td>\n      <td>3489.0</td>\n      <td>6.483714</td>\n      <td>1.9</td>\n      <td>24.671429</td>\n      <td>0.0</td>\n      <td>0.0</td>\n      <td>881.0</td>\n      <td>0</td>\n    </tr>\n    <tr>\n      <th>2</th>\n      <td>100001.0</td>\n      <td>2014-12-04</td>\n      <td>G</td>\n      <td>O</td>\n      <td>Y</td>\n      <td>1</td>\n      <td>8.676444</td>\n      <td>148.363704</td>\n      <td>38.87</td>\n      <td>3459.0</td>\n      <td>6.159659</td>\n      <td>2.0</td>\n      <td>24.733333</td>\n      <td>0.0</td>\n      <td>0.0</td>\n      <td>882.0</td>\n      <td>0</td>\n    </tr>\n    <tr>\n      <th>3</th>\n      <td>100001.0</td>\n      <td>2014-12-05</td>\n      <td>G</td>\n      <td>O</td>\n      <td>Y</td>\n      <td>1</td>\n      <td>9.988338</td>\n      <td>133.660000</td>\n      <td>39.47</td>\n      <td>3513.0</td>\n      <td>9.320308</td>\n      <td>2.0</td>\n      <td>24.773077</td>\n      <td>0.0</td>\n      <td>0.0</td>\n      <td>883.0</td>\n      <td>0</td>\n    </tr>\n    <tr>\n      <th>4</th>\n      <td>100001.0</td>\n      <td>2014-12-06</td>\n      <td>G</td>\n      <td>O</td>\n      <td>Y</td>\n      <td>1</td>\n      <td>8.475264</td>\n      <td>197.181600</td>\n      <td>40.33</td>\n      <td>3589.0</td>\n      <td>8.022960</td>\n      <td>1.5</td>\n      <td>24.808000</td>\n      <td>0.0</td>\n      <td>0.0</td>\n      <td>884.0</td>\n      <td>0</td>\n    </tr>\n  </tbody>\n</table>\n</div>",
                        "text/plain": "    WELL_ID       DATE REGION_CLUSTER MAINTENANCE_VENDOR MANUFACTURER  \\\n0  100001.0 2014-12-02              G                  O            Y   \n1  100001.0 2014-12-03              G                  O            Y   \n2  100001.0 2014-12-04              G                  O            Y   \n3  100001.0 2014-12-05              G                  O            Y   \n4  100001.0 2014-12-06              G                  O            Y   \n\n   WELL_GROUP        S15         S17    S13      S5       S16  S19        S18  \\\n0           1  11.088000  145.223448  39.34  3501.0  8.426869  1.9  24.610345   \n1           1   8.877943  187.573214  39.20  3489.0  6.483714  1.9  24.671429   \n2           1   8.676444  148.363704  38.87  3459.0  6.159659  2.0  24.733333   \n3           1   9.988338  133.660000  39.47  3513.0  9.320308  2.0  24.773077   \n4           1   8.475264  197.181600  40.33  3589.0  8.022960  1.5  24.808000   \n\n   EQUIPMENT_FAILURE   S8  AGE_OF_EQUIPMENT  flipper  \n0                0.0  0.0             880.0        1  \n1                0.0  0.0             881.0        0  \n2                0.0  0.0             882.0        0  \n3                0.0  0.0             883.0        0  \n4                0.0  0.0             884.0        0  "
                    },
                    "execution_count": 21,
                    "metadata": {},
                    "output_type": "execute_result"
                }
            ],
            "source": "pd_data=pd_data.sort_values(by=['WELL_ID','DATE'], ascending=[True, True])\n\npd_data['flipper'] = np.where((pd_data.WELL_ID != pd_data.WELL_ID.shift(1)), 1, 0)\npd_data.head()"
        },
        {
            "cell_type": "markdown",
            "metadata": {},
            "source": "Calculate the number of days since the first day a machine appears to the current day. This field will be called \"TIME_SINCE_START\"  Also create a variable called \"too_soon\".  When \"too_soon\" is equal to 1 we have less than 5 days of history for the machine.\n\nWe will use these new variables to create a running mean, median, max and min.  Also, we will need to augment the running statistics for records that have less than five days of history.\n"
        },
        {
            "cell_type": "code",
            "execution_count": 22,
            "metadata": {},
            "outputs": [],
            "source": "dfx=pd_data"
        },
        {
            "cell_type": "code",
            "execution_count": 23,
            "metadata": {},
            "outputs": [],
            "source": "#Select the first record of each machine\n\nstarter=dfx[dfx['flipper'] == 1]\n\nstarter=starter[['DATE','WELL_ID']]"
        },
        {
            "cell_type": "code",
            "execution_count": 24,
            "metadata": {},
            "outputs": [],
            "source": "#rename data to start_date\nstarter=starter.rename(index=str, columns={\"DATE\": \"START_DATE\"})"
        },
        {
            "cell_type": "code",
            "execution_count": 25,
            "metadata": {},
            "outputs": [],
            "source": "#convert START_DATE to date\nstarter['START_DATE'] = pd.to_datetime(starter['START_DATE'])"
        },
        {
            "cell_type": "code",
            "execution_count": 26,
            "metadata": {},
            "outputs": [],
            "source": "#Merge START_DATE to the original data set\n\ndfx=dfx.sort_values(by=['WELL_ID', 'DATE'], ascending=[True, True])\nstarter=starter.sort_values(by=['WELL_ID'], ascending=[True])\ndfx =dfx.merge(starter, on=['WELL_ID'], how='left')"
        },
        {
            "cell_type": "code",
            "execution_count": 27,
            "metadata": {},
            "outputs": [],
            "source": "# calculate the number of days since the beginning of each well. \ndfx['C'] = dfx['DATE'] - dfx['START_DATE']\ndfx['TIME_SINCE_START'] = dfx['C'] / np.timedelta64(1, 'D')\ndfx=dfx.drop(columns=['C'])\ndfx['too_soon'] = np.where((dfx.TIME_SINCE_START <= 4) , 1, 0)"
        },
        {
            "cell_type": "markdown",
            "metadata": {},
            "source": "\nCreate a running mean, max, min and median for the sensor variables.\n"
        },
        {
            "cell_type": "code",
            "execution_count": 28,
            "metadata": {
                "scrolled": true
            },
            "outputs": [
                {
                    "data": {
                        "text/html": "<div>\n<style scoped>\n    .dataframe tbody tr th:only-of-type {\n        vertical-align: middle;\n    }\n\n    .dataframe tbody tr th {\n        vertical-align: top;\n    }\n\n    .dataframe thead th {\n        text-align: right;\n    }\n</style>\n<table border=\"1\" class=\"dataframe\">\n  <thead>\n    <tr style=\"text-align: right;\">\n      <th></th>\n      <th>WELL_ID</th>\n      <th>DATE</th>\n      <th>REGION_CLUSTER</th>\n      <th>MAINTENANCE_VENDOR</th>\n      <th>MANUFACTURER</th>\n      <th>WELL_GROUP</th>\n      <th>S15</th>\n      <th>S17</th>\n      <th>S13</th>\n      <th>S5</th>\n      <th>...</th>\n      <th>S17_max</th>\n      <th>S17_min</th>\n      <th>S18_mean</th>\n      <th>S18_median</th>\n      <th>S18_max</th>\n      <th>S18_min</th>\n      <th>S19_mean</th>\n      <th>S19_median</th>\n      <th>S19_max</th>\n      <th>S19_min</th>\n    </tr>\n  </thead>\n  <tbody>\n    <tr>\n      <th>0</th>\n      <td>100001.0</td>\n      <td>2014-12-02</td>\n      <td>G</td>\n      <td>O</td>\n      <td>Y</td>\n      <td>1</td>\n      <td>11.088000</td>\n      <td>145.223448</td>\n      <td>39.34</td>\n      <td>3501.0</td>\n      <td>...</td>\n      <td>145.223448</td>\n      <td>145.223448</td>\n      <td>24.610345</td>\n      <td>24.610345</td>\n      <td>24.610345</td>\n      <td>24.610345</td>\n      <td>1.9</td>\n      <td>1.9</td>\n      <td>1.9</td>\n      <td>1.9</td>\n    </tr>\n    <tr>\n      <th>1</th>\n      <td>100001.0</td>\n      <td>2014-12-03</td>\n      <td>G</td>\n      <td>O</td>\n      <td>Y</td>\n      <td>1</td>\n      <td>8.877943</td>\n      <td>187.573214</td>\n      <td>39.20</td>\n      <td>3489.0</td>\n      <td>...</td>\n      <td>187.573214</td>\n      <td>187.573214</td>\n      <td>24.671429</td>\n      <td>24.671429</td>\n      <td>24.671429</td>\n      <td>24.671429</td>\n      <td>1.9</td>\n      <td>1.9</td>\n      <td>1.9</td>\n      <td>1.9</td>\n    </tr>\n    <tr>\n      <th>2</th>\n      <td>100001.0</td>\n      <td>2014-12-04</td>\n      <td>G</td>\n      <td>O</td>\n      <td>Y</td>\n      <td>1</td>\n      <td>8.676444</td>\n      <td>148.363704</td>\n      <td>38.87</td>\n      <td>3459.0</td>\n      <td>...</td>\n      <td>148.363704</td>\n      <td>148.363704</td>\n      <td>24.733333</td>\n      <td>24.733333</td>\n      <td>24.733333</td>\n      <td>24.733333</td>\n      <td>2.0</td>\n      <td>2.0</td>\n      <td>2.0</td>\n      <td>2.0</td>\n    </tr>\n    <tr>\n      <th>3</th>\n      <td>100001.0</td>\n      <td>2014-12-05</td>\n      <td>G</td>\n      <td>O</td>\n      <td>Y</td>\n      <td>1</td>\n      <td>9.988338</td>\n      <td>133.660000</td>\n      <td>39.47</td>\n      <td>3513.0</td>\n      <td>...</td>\n      <td>133.660000</td>\n      <td>133.660000</td>\n      <td>24.773077</td>\n      <td>24.773077</td>\n      <td>24.773077</td>\n      <td>24.773077</td>\n      <td>2.0</td>\n      <td>2.0</td>\n      <td>2.0</td>\n      <td>2.0</td>\n    </tr>\n    <tr>\n      <th>4</th>\n      <td>100001.0</td>\n      <td>2014-12-06</td>\n      <td>G</td>\n      <td>O</td>\n      <td>Y</td>\n      <td>1</td>\n      <td>8.475264</td>\n      <td>197.181600</td>\n      <td>40.33</td>\n      <td>3589.0</td>\n      <td>...</td>\n      <td>197.181600</td>\n      <td>197.181600</td>\n      <td>24.808000</td>\n      <td>24.808000</td>\n      <td>24.808000</td>\n      <td>24.808000</td>\n      <td>1.5</td>\n      <td>1.5</td>\n      <td>1.5</td>\n      <td>1.5</td>\n    </tr>\n  </tbody>\n</table>\n<p>5 rows \u00d7 48 columns</p>\n</div>",
                        "text/plain": "    WELL_ID       DATE REGION_CLUSTER MAINTENANCE_VENDOR MANUFACTURER  \\\n0  100001.0 2014-12-02              G                  O            Y   \n1  100001.0 2014-12-03              G                  O            Y   \n2  100001.0 2014-12-04              G                  O            Y   \n3  100001.0 2014-12-05              G                  O            Y   \n4  100001.0 2014-12-06              G                  O            Y   \n\n   WELL_GROUP        S15         S17    S13      S5  ...     S17_max  \\\n0           1  11.088000  145.223448  39.34  3501.0  ...  145.223448   \n1           1   8.877943  187.573214  39.20  3489.0  ...  187.573214   \n2           1   8.676444  148.363704  38.87  3459.0  ...  148.363704   \n3           1   9.988338  133.660000  39.47  3513.0  ...  133.660000   \n4           1   8.475264  197.181600  40.33  3589.0  ...  197.181600   \n\n      S17_min   S18_mean  S18_median    S18_max    S18_min  S19_mean  \\\n0  145.223448  24.610345   24.610345  24.610345  24.610345       1.9   \n1  187.573214  24.671429   24.671429  24.671429  24.671429       1.9   \n2  148.363704  24.733333   24.733333  24.733333  24.733333       2.0   \n3  133.660000  24.773077   24.773077  24.773077  24.773077       2.0   \n4  197.181600  24.808000   24.808000  24.808000  24.808000       1.5   \n\n  S19_median  S19_max  S19_min  \n0        1.9      1.9      1.9  \n1        1.9      1.9      1.9  \n2        2.0      2.0      2.0  \n3        2.0      2.0      2.0  \n4        1.5      1.5      1.5  \n\n[5 rows x 48 columns]"
                    },
                    "execution_count": 28,
                    "metadata": {},
                    "output_type": "execute_result"
                }
            ],
            "source": "dfx['S5_mean'] = np.where((dfx.too_soon == 0),(dfx['S5'].rolling(min_periods=1, window=5).mean()) , dfx.S5)\ndfx['S5_median'] = np.where((dfx.too_soon == 0),(dfx['S5'].rolling(min_periods=1, window=5).median()) , dfx.S5)\ndfx['S5_max'] = np.where((dfx.too_soon == 0),(dfx['S5'].rolling(min_periods=1, window=5).max()) , dfx.S5)\ndfx['S5_min'] = np.where((dfx.too_soon == 0),(dfx['S5'].rolling(min_periods=1, window=5).min()) , dfx.S5)\n\n\ndfx['S13_mean'] = np.where((dfx.too_soon == 0),(dfx['S13'].rolling(min_periods=1, window=5).mean()) , dfx.S13)\ndfx['S13_median'] = np.where((dfx.too_soon == 0),(dfx['S13'].rolling(min_periods=1, window=5).median()) , dfx.S13)\ndfx['S13_max'] = np.where((dfx.too_soon == 0),(dfx['S13'].rolling(min_periods=1, window=5).max()) , dfx.S13)\ndfx['S13_min'] = np.where((dfx.too_soon == 0),(dfx['S13'].rolling(min_periods=1, window=5).min()) , dfx.S13)\n\n\ndfx['S15_mean'] = np.where((dfx.too_soon == 0),(dfx['S15'].rolling(min_periods=1, window=5).mean()) , dfx.S15)\ndfx['S15_median'] = np.where((dfx.too_soon == 0),(dfx['S15'].rolling(min_periods=1, window=5).median()) , dfx.S15)\ndfx['S15_max'] = np.where((dfx.too_soon == 0),(dfx['S15'].rolling(min_periods=1, window=5).max()) , dfx.S15)\ndfx['S15_min'] = np.where((dfx.too_soon == 0),(dfx['S15'].rolling(min_periods=1, window=5).min()) , dfx.S15)\n\ndfx['S16_mean'] = np.where((dfx.too_soon == 0),(dfx['S16'].rolling(min_periods=1, window=5).mean()) , dfx.S16)\ndfx['S16_median'] = np.where((dfx.too_soon == 0),(dfx['S16'].rolling(min_periods=1, window=5).median()) , dfx.S16)\ndfx['S16_max'] = np.where((dfx.too_soon == 0),(dfx['S16'].rolling(min_periods=1, window=5).max()) , dfx.S16)\ndfx['S16_min'] = np.where((dfx.too_soon == 0),(dfx['S16'].rolling(min_periods=1, window=5).min()) , dfx.S16)\n\n\ndfx['S17_mean'] = np.where((dfx.too_soon == 0),(dfx['S17'].rolling(min_periods=1, window=5).mean()) , dfx.S17)\ndfx['S17_median'] = np.where((dfx.too_soon == 0),(dfx['S17'].rolling(min_periods=1, window=5).median()) , dfx.S17)\ndfx['S17_max'] = np.where((dfx.too_soon == 0),(dfx['S17'].rolling(min_periods=1, window=5).max()) , dfx.S17)\ndfx['S17_min'] = np.where((dfx.too_soon == 0),(dfx['S17'].rolling(min_periods=1, window=5).min()) , dfx.S17)\n\ndfx['S18_mean'] = np.where((dfx.too_soon == 0),(dfx['S18'].rolling(min_periods=1, window=5).mean()) , dfx.S18)\ndfx['S18_median'] = np.where((dfx.too_soon == 0),(dfx['S18'].rolling(min_periods=1, window=5).median()) , dfx.S18)\ndfx['S18_max'] = np.where((dfx.too_soon == 0),(dfx['S18'].rolling(min_periods=1, window=5).max()) , dfx.S18)\ndfx['S18_min'] = np.where((dfx.too_soon == 0),(dfx['S18'].rolling(min_periods=1, window=5).min()) , dfx.S18)\n\n\n\ndfx['S19_mean'] = np.where((dfx.too_soon == 0),(dfx['S19'].rolling(min_periods=1, window=5).mean()) , dfx.S19)\ndfx['S19_median'] = np.where((dfx.too_soon == 0),(dfx['S19'].rolling(min_periods=1, window=5).median()) , dfx.S19)\ndfx['S19_max'] = np.where((dfx.too_soon == 0),(dfx['S19'].rolling(min_periods=1, window=5).max()) , dfx.S19)\ndfx['S19_min'] = np.where((dfx.too_soon == 0),(dfx['S19'].rolling(min_periods=1, window=5).min()) , dfx.S19)\n\n\ndfx.head()"
        },
        {
            "cell_type": "markdown",
            "metadata": {},
            "source": " Create a poor man's derivative for each signal.  This is to look for sudden changes in sensor values."
        },
        {
            "cell_type": "code",
            "execution_count": 29,
            "metadata": {
                "scrolled": true
            },
            "outputs": [],
            "source": "dfx['S5_chg'] = np.where((dfx.S5_mean == 0),0 , dfx.S5/dfx.S5_mean)\n\n\ndfx['S13_chg'] = np.where((dfx.S13_mean == 0),0 , dfx.S13/dfx.S13_mean)\n\ndfx['S15_chg'] = np.where((dfx.S15_mean==0),0 , dfx.S15/dfx.S15_mean)\ndfx['S16_chg'] = np.where((dfx.S16_mean == 0),0 , dfx.S16/dfx.S16_mean)\ndfx['S17_chg'] = np.where((dfx.S17_mean == 0),0 , dfx.S17/dfx.S17_mean)\ndfx['S18_chg'] = np.where((dfx.S18_mean == 0),0 , dfx.S18/dfx.S18_mean)\ndfx['S19_chg'] = np.where((dfx.S19_mean == 0),0 , dfx.S19/dfx.S19_mean)"
        },
        {
            "cell_type": "code",
            "execution_count": 30,
            "metadata": {},
            "outputs": [],
            "source": "#copy the data set to the original name\npd_data=dfx"
        },
        {
            "cell_type": "markdown",
            "metadata": {},
            "source": "## 4.0 Dealing with the small number of failures. <a id=\"small\"></a>"
        },
        {
            "cell_type": "markdown",
            "metadata": {},
            "source": "### 4.1 Expand the Failure Window <a id=\"window\"></a>"
        },
        {
            "cell_type": "markdown",
            "metadata": {},
            "source": "One way to increase the number of failures is to expand the failure window.  That is, make the dependent variable not just the day the equipment failed, but the 30 days leading up to the failure.  "
        },
        {
            "cell_type": "markdown",
            "metadata": {},
            "source": "Sort the data by WELL_ID and DATE.  Make sure the index reflects this order."
        },
        {
            "cell_type": "code",
            "execution_count": 31,
            "metadata": {
                "scrolled": true
            },
            "outputs": [],
            "source": "pd_data=pd_data.sort_values(by=['WELL_ID', 'DATE'], ascending=[True, True])\npd_data.reset_index(level=0, inplace=True)"
        },
        {
            "cell_type": "markdown",
            "metadata": {},
            "source": "Create a new data frame that contains the failure records.  Rename DATE to FAILURE_DATE"
        },
        {
            "cell_type": "code",
            "execution_count": 32,
            "metadata": {
                "scrolled": true
            },
            "outputs": [],
            "source": "\n\ndf_failure_thingy=pd_data[pd_data['EQUIPMENT_FAILURE'] == 1]\n\ndf_failure_thingy=df_failure_thingy[['DATE','WELL_ID']]\n\ndf_failure_thingy=df_failure_thingy.rename(index=str, columns={\"DATE\": \"FAILURE_DATE\"})\n\npd_data=pd_data.sort_values(by=['WELL_ID'], ascending=[True])\ndf_failure_thingy=df_failure_thingy.sort_values(by=['WELL_ID'], ascending=[True])\n"
        },
        {
            "cell_type": "markdown",
            "metadata": {},
            "source": "Append the FAILURE_DATE to each WELL_ID"
        },
        {
            "cell_type": "code",
            "execution_count": 33,
            "metadata": {
                "scrolled": true
            },
            "outputs": [],
            "source": "\n\npd_data =pd_data.merge(df_failure_thingy, on=['WELL_ID'], how='left')"
        },
        {
            "cell_type": "markdown",
            "metadata": {},
            "source": "For each record calculate the number of days until failure."
        },
        {
            "cell_type": "code",
            "execution_count": 34,
            "metadata": {
                "scrolled": true
            },
            "outputs": [],
            "source": "\n\npd_data=pd_data.sort_values(by=['WELL_ID','DATE'], ascending=[True, True])\n\npd_data['FAILURE_DATE'] = pd.to_datetime(pd_data['FAILURE_DATE'])\npd_data['DATE'] = pd.to_datetime(pd_data['DATE'])\npd_data['C'] = pd_data['FAILURE_DATE'] - pd_data['DATE']\n\npd_data['TIME_TO_FAILURE'] = pd_data['C'] / np.timedelta64(1, 'D')"
        },
        {
            "cell_type": "markdown",
            "metadata": {},
            "source": "Clean up and sort the records by WELL_ID and DATE"
        },
        {
            "cell_type": "code",
            "execution_count": 35,
            "metadata": {},
            "outputs": [],
            "source": "pd_data=pd_data.drop(columns=['index'])"
        },
        {
            "cell_type": "code",
            "execution_count": 36,
            "metadata": {
                "scrolled": true
            },
            "outputs": [],
            "source": "pd_data=pd_data.sort_values(by=['WELL_ID', 'DATE'], ascending=[True, True])\n\n"
        },
        {
            "cell_type": "code",
            "execution_count": 37,
            "metadata": {},
            "outputs": [],
            "source": "pd_data.reset_index(inplace=True)\n"
        },
        {
            "cell_type": "code",
            "execution_count": 38,
            "metadata": {},
            "outputs": [
                {
                    "data": {
                        "text/html": "<div>\n<style scoped>\n    .dataframe tbody tr th:only-of-type {\n        vertical-align: middle;\n    }\n\n    .dataframe tbody tr th {\n        vertical-align: top;\n    }\n\n    .dataframe thead th {\n        text-align: right;\n    }\n</style>\n<table border=\"1\" class=\"dataframe\">\n  <thead>\n    <tr style=\"text-align: right;\">\n      <th></th>\n      <th>index</th>\n      <th>WELL_ID</th>\n      <th>DATE</th>\n      <th>REGION_CLUSTER</th>\n      <th>MAINTENANCE_VENDOR</th>\n      <th>MANUFACTURER</th>\n      <th>WELL_GROUP</th>\n      <th>S15</th>\n      <th>S17</th>\n      <th>S13</th>\n      <th>...</th>\n      <th>S5_chg</th>\n      <th>S13_chg</th>\n      <th>S15_chg</th>\n      <th>S16_chg</th>\n      <th>S17_chg</th>\n      <th>S18_chg</th>\n      <th>S19_chg</th>\n      <th>FAILURE_DATE</th>\n      <th>C</th>\n      <th>TIME_TO_FAILURE</th>\n    </tr>\n  </thead>\n  <tbody>\n    <tr>\n      <th>0</th>\n      <td>0</td>\n      <td>100001.0</td>\n      <td>2014-12-02</td>\n      <td>G</td>\n      <td>O</td>\n      <td>Y</td>\n      <td>1</td>\n      <td>11.088000</td>\n      <td>145.223448</td>\n      <td>39.34</td>\n      <td>...</td>\n      <td>1.0</td>\n      <td>1.0</td>\n      <td>1.0</td>\n      <td>1.0</td>\n      <td>1.0</td>\n      <td>1.0</td>\n      <td>1.0</td>\n      <td>2015-04-24</td>\n      <td>143 days</td>\n      <td>143.0</td>\n    </tr>\n    <tr>\n      <th>1</th>\n      <td>549</td>\n      <td>100001.0</td>\n      <td>2014-12-03</td>\n      <td>G</td>\n      <td>O</td>\n      <td>Y</td>\n      <td>1</td>\n      <td>8.877943</td>\n      <td>187.573214</td>\n      <td>39.20</td>\n      <td>...</td>\n      <td>1.0</td>\n      <td>1.0</td>\n      <td>1.0</td>\n      <td>1.0</td>\n      <td>1.0</td>\n      <td>1.0</td>\n      <td>1.0</td>\n      <td>2015-04-24</td>\n      <td>142 days</td>\n      <td>142.0</td>\n    </tr>\n    <tr>\n      <th>2</th>\n      <td>483</td>\n      <td>100001.0</td>\n      <td>2014-12-04</td>\n      <td>G</td>\n      <td>O</td>\n      <td>Y</td>\n      <td>1</td>\n      <td>8.676444</td>\n      <td>148.363704</td>\n      <td>38.87</td>\n      <td>...</td>\n      <td>1.0</td>\n      <td>1.0</td>\n      <td>1.0</td>\n      <td>1.0</td>\n      <td>1.0</td>\n      <td>1.0</td>\n      <td>1.0</td>\n      <td>2015-04-24</td>\n      <td>141 days</td>\n      <td>141.0</td>\n    </tr>\n    <tr>\n      <th>3</th>\n      <td>484</td>\n      <td>100001.0</td>\n      <td>2014-12-05</td>\n      <td>G</td>\n      <td>O</td>\n      <td>Y</td>\n      <td>1</td>\n      <td>9.988338</td>\n      <td>133.660000</td>\n      <td>39.47</td>\n      <td>...</td>\n      <td>1.0</td>\n      <td>1.0</td>\n      <td>1.0</td>\n      <td>1.0</td>\n      <td>1.0</td>\n      <td>1.0</td>\n      <td>1.0</td>\n      <td>2015-04-24</td>\n      <td>140 days</td>\n      <td>140.0</td>\n    </tr>\n    <tr>\n      <th>4</th>\n      <td>485</td>\n      <td>100001.0</td>\n      <td>2014-12-06</td>\n      <td>G</td>\n      <td>O</td>\n      <td>Y</td>\n      <td>1</td>\n      <td>8.475264</td>\n      <td>197.181600</td>\n      <td>40.33</td>\n      <td>...</td>\n      <td>1.0</td>\n      <td>1.0</td>\n      <td>1.0</td>\n      <td>1.0</td>\n      <td>1.0</td>\n      <td>1.0</td>\n      <td>1.0</td>\n      <td>2015-04-24</td>\n      <td>139 days</td>\n      <td>139.0</td>\n    </tr>\n  </tbody>\n</table>\n<p>5 rows \u00d7 59 columns</p>\n</div>",
                        "text/plain": "   index   WELL_ID       DATE REGION_CLUSTER MAINTENANCE_VENDOR MANUFACTURER  \\\n0      0  100001.0 2014-12-02              G                  O            Y   \n1    549  100001.0 2014-12-03              G                  O            Y   \n2    483  100001.0 2014-12-04              G                  O            Y   \n3    484  100001.0 2014-12-05              G                  O            Y   \n4    485  100001.0 2014-12-06              G                  O            Y   \n\n   WELL_GROUP        S15         S17    S13  ...  S5_chg  S13_chg  S15_chg  \\\n0           1  11.088000  145.223448  39.34  ...     1.0      1.0      1.0   \n1           1   8.877943  187.573214  39.20  ...     1.0      1.0      1.0   \n2           1   8.676444  148.363704  38.87  ...     1.0      1.0      1.0   \n3           1   9.988338  133.660000  39.47  ...     1.0      1.0      1.0   \n4           1   8.475264  197.181600  40.33  ...     1.0      1.0      1.0   \n\n   S16_chg  S17_chg  S18_chg  S19_chg  FAILURE_DATE        C  TIME_TO_FAILURE  \n0      1.0      1.0      1.0      1.0    2015-04-24 143 days            143.0  \n1      1.0      1.0      1.0      1.0    2015-04-24 142 days            142.0  \n2      1.0      1.0      1.0      1.0    2015-04-24 141 days            141.0  \n3      1.0      1.0      1.0      1.0    2015-04-24 140 days            140.0  \n4      1.0      1.0      1.0      1.0    2015-04-24 139 days            139.0  \n\n[5 rows x 59 columns]"
                    },
                    "execution_count": 38,
                    "metadata": {},
                    "output_type": "execute_result"
                }
            ],
            "source": "pd_data.head()"
        },
        {
            "cell_type": "markdown",
            "metadata": {},
            "source": "Create a new variable, FAILURE_TARGET.  It is equal to 1 if the record proceeds a failure by 30 days or less."
        },
        {
            "cell_type": "code",
            "execution_count": 39,
            "metadata": {
                "scrolled": true
            },
            "outputs": [
                {
                    "data": {
                        "text/html": "<div>\n<style scoped>\n    .dataframe tbody tr th:only-of-type {\n        vertical-align: middle;\n    }\n\n    .dataframe tbody tr th {\n        vertical-align: top;\n    }\n\n    .dataframe thead th {\n        text-align: right;\n    }\n</style>\n<table border=\"1\" class=\"dataframe\">\n  <thead>\n    <tr style=\"text-align: right;\">\n      <th></th>\n      <th>index</th>\n      <th>WELL_ID</th>\n      <th>DATE</th>\n      <th>REGION_CLUSTER</th>\n      <th>MAINTENANCE_VENDOR</th>\n      <th>MANUFACTURER</th>\n      <th>WELL_GROUP</th>\n      <th>S15</th>\n      <th>S17</th>\n      <th>S13</th>\n      <th>...</th>\n      <th>S13_chg</th>\n      <th>S15_chg</th>\n      <th>S16_chg</th>\n      <th>S17_chg</th>\n      <th>S18_chg</th>\n      <th>S19_chg</th>\n      <th>FAILURE_DATE</th>\n      <th>C</th>\n      <th>TIME_TO_FAILURE</th>\n      <th>FAILURE_TARGET</th>\n    </tr>\n  </thead>\n  <tbody>\n    <tr>\n      <th>0</th>\n      <td>0</td>\n      <td>100001.0</td>\n      <td>2014-12-02</td>\n      <td>G</td>\n      <td>O</td>\n      <td>Y</td>\n      <td>1</td>\n      <td>11.088000</td>\n      <td>145.223448</td>\n      <td>39.34</td>\n      <td>...</td>\n      <td>1.0</td>\n      <td>1.0</td>\n      <td>1.0</td>\n      <td>1.0</td>\n      <td>1.0</td>\n      <td>1.0</td>\n      <td>2015-04-24</td>\n      <td>143 days</td>\n      <td>143.0</td>\n      <td>0</td>\n    </tr>\n    <tr>\n      <th>1</th>\n      <td>549</td>\n      <td>100001.0</td>\n      <td>2014-12-03</td>\n      <td>G</td>\n      <td>O</td>\n      <td>Y</td>\n      <td>1</td>\n      <td>8.877943</td>\n      <td>187.573214</td>\n      <td>39.20</td>\n      <td>...</td>\n      <td>1.0</td>\n      <td>1.0</td>\n      <td>1.0</td>\n      <td>1.0</td>\n      <td>1.0</td>\n      <td>1.0</td>\n      <td>2015-04-24</td>\n      <td>142 days</td>\n      <td>142.0</td>\n      <td>0</td>\n    </tr>\n    <tr>\n      <th>2</th>\n      <td>483</td>\n      <td>100001.0</td>\n      <td>2014-12-04</td>\n      <td>G</td>\n      <td>O</td>\n      <td>Y</td>\n      <td>1</td>\n      <td>8.676444</td>\n      <td>148.363704</td>\n      <td>38.87</td>\n      <td>...</td>\n      <td>1.0</td>\n      <td>1.0</td>\n      <td>1.0</td>\n      <td>1.0</td>\n      <td>1.0</td>\n      <td>1.0</td>\n      <td>2015-04-24</td>\n      <td>141 days</td>\n      <td>141.0</td>\n      <td>0</td>\n    </tr>\n    <tr>\n      <th>3</th>\n      <td>484</td>\n      <td>100001.0</td>\n      <td>2014-12-05</td>\n      <td>G</td>\n      <td>O</td>\n      <td>Y</td>\n      <td>1</td>\n      <td>9.988338</td>\n      <td>133.660000</td>\n      <td>39.47</td>\n      <td>...</td>\n      <td>1.0</td>\n      <td>1.0</td>\n      <td>1.0</td>\n      <td>1.0</td>\n      <td>1.0</td>\n      <td>1.0</td>\n      <td>2015-04-24</td>\n      <td>140 days</td>\n      <td>140.0</td>\n      <td>0</td>\n    </tr>\n    <tr>\n      <th>4</th>\n      <td>485</td>\n      <td>100001.0</td>\n      <td>2014-12-06</td>\n      <td>G</td>\n      <td>O</td>\n      <td>Y</td>\n      <td>1</td>\n      <td>8.475264</td>\n      <td>197.181600</td>\n      <td>40.33</td>\n      <td>...</td>\n      <td>1.0</td>\n      <td>1.0</td>\n      <td>1.0</td>\n      <td>1.0</td>\n      <td>1.0</td>\n      <td>1.0</td>\n      <td>2015-04-24</td>\n      <td>139 days</td>\n      <td>139.0</td>\n      <td>0</td>\n    </tr>\n  </tbody>\n</table>\n<p>5 rows \u00d7 60 columns</p>\n</div>",
                        "text/plain": "   index   WELL_ID       DATE REGION_CLUSTER MAINTENANCE_VENDOR MANUFACTURER  \\\n0      0  100001.0 2014-12-02              G                  O            Y   \n1    549  100001.0 2014-12-03              G                  O            Y   \n2    483  100001.0 2014-12-04              G                  O            Y   \n3    484  100001.0 2014-12-05              G                  O            Y   \n4    485  100001.0 2014-12-06              G                  O            Y   \n\n   WELL_GROUP        S15         S17    S13  ...  S13_chg  S15_chg  S16_chg  \\\n0           1  11.088000  145.223448  39.34  ...      1.0      1.0      1.0   \n1           1   8.877943  187.573214  39.20  ...      1.0      1.0      1.0   \n2           1   8.676444  148.363704  38.87  ...      1.0      1.0      1.0   \n3           1   9.988338  133.660000  39.47  ...      1.0      1.0      1.0   \n4           1   8.475264  197.181600  40.33  ...      1.0      1.0      1.0   \n\n   S17_chg  S18_chg  S19_chg  FAILURE_DATE        C TIME_TO_FAILURE  \\\n0      1.0      1.0      1.0    2015-04-24 143 days           143.0   \n1      1.0      1.0      1.0    2015-04-24 142 days           142.0   \n2      1.0      1.0      1.0    2015-04-24 141 days           141.0   \n3      1.0      1.0      1.0    2015-04-24 140 days           140.0   \n4      1.0      1.0      1.0    2015-04-24 139 days           139.0   \n\n   FAILURE_TARGET  \n0               0  \n1               0  \n2               0  \n3               0  \n4               0  \n\n[5 rows x 60 columns]"
                    },
                    "execution_count": 39,
                    "metadata": {},
                    "output_type": "execute_result"
                }
            ],
            "source": "pd_data['FAILURE_TARGET'] = np.where(((pd_data.TIME_TO_FAILURE < 30) & ((pd_data.TIME_TO_FAILURE>=0))), 1, 0)\n\npd_data.head()"
        },
        {
            "cell_type": "markdown",
            "metadata": {},
            "source": "A new variable called FAILURE_TARGET represents the thirty days leading up to the failure."
        },
        {
            "cell_type": "code",
            "execution_count": 40,
            "metadata": {},
            "outputs": [
                {
                    "data": {
                        "text/plain": "FAILURE_TARGET\n0    295187\n1     12564\nName: S5, dtype: int64"
                    },
                    "execution_count": 40,
                    "metadata": {},
                    "output_type": "execute_result"
                }
            ],
            "source": "tips_summed = pd_data.groupby(['FAILURE_TARGET'])['S5'].count()\ntips_summed"
        },
        {
            "cell_type": "markdown",
            "metadata": {},
            "source": "The new field occurs about 4% of the time."
        },
        {
            "cell_type": "code",
            "execution_count": 41,
            "metadata": {},
            "outputs": [
                {
                    "data": {
                        "text/plain": "0.04082521259069832"
                    },
                    "execution_count": 41,
                    "metadata": {},
                    "output_type": "execute_result"
                }
            ],
            "source": "pd_data['FAILURE_TARGET'].mean()"
        },
        {
            "cell_type": "markdown",
            "metadata": {},
            "source": "Now we have 12,564 target observations.  This is better, but the data set is far from balanced. In the next section we will use SMOTE to synthetically increase the number of failures.  Before we do that, however, let's split our data into a training, a testing and a validation sample."
        },
        {
            "cell_type": "markdown",
            "metadata": {},
            "source": "### 4.2 Create the Testing, Training and Validation Groupings <a id=\"groups\"></a>"
        },
        {
            "cell_type": "markdown",
            "metadata": {},
            "source": "Because we are dealing with a panel data set (cross-sectional time-series) it is better to not just take a random sample of all records.  Doing so would put the records from one machine in all three sample data sets.  To avoid this, we'll need to randomly select WELL_IDs and place all of the records for each machine in either the training, testing or validation data set.\n"
        },
        {
            "cell_type": "code",
            "execution_count": 42,
            "metadata": {
                "scrolled": true
            },
            "outputs": [
                {
                    "data": {
                        "text/plain": "(421, 1)"
                    },
                    "execution_count": 42,
                    "metadata": {},
                    "output_type": "execute_result"
                }
            ],
            "source": "#Get a Unique List of All WELL_IDs \n\n\naa=pd_data\n\npd_well_id=aa.drop_duplicates(subset='WELL_ID')\npd_well_id=pd_well_id[['WELL_ID']]\npd_well_id.shape\n"
        },
        {
            "cell_type": "markdown",
            "metadata": {},
            "source": "Create a new variable with a random number between 0 and 1"
        },
        {
            "cell_type": "code",
            "execution_count": 43,
            "metadata": {},
            "outputs": [],
            "source": "np.random.seed(42)"
        },
        {
            "cell_type": "code",
            "execution_count": 44,
            "metadata": {
                "scrolled": true
            },
            "outputs": [],
            "source": "pd_well_id['wookie'] = (np.random.randint(0, 10000, pd_well_id.shape[0]))/10000"
        },
        {
            "cell_type": "code",
            "execution_count": 45,
            "metadata": {
                "scrolled": true
            },
            "outputs": [],
            "source": "\npd_well_id=pd_well_id[['WELL_ID', 'wookie']]"
        },
        {
            "cell_type": "markdown",
            "metadata": {},
            "source": "Give each record a 30% chance of being in the validation, a 35% chance of being in the testing and a 35% chance of being in the training data set\n"
        },
        {
            "cell_type": "code",
            "execution_count": 46,
            "metadata": {
                "scrolled": true
            },
            "outputs": [],
            "source": "pd_well_id['MODELING_GROUP'] = np.where(((pd_well_id.wookie <= 0.35)), 'TRAINING', np.where(((pd_well_id.wookie <= 0.65)), 'VALIDATION', 'TESTING'))"
        },
        {
            "cell_type": "markdown",
            "metadata": {},
            "source": "This is how many machines fall in each group"
        },
        {
            "cell_type": "code",
            "execution_count": 47,
            "metadata": {
                "scrolled": true
            },
            "outputs": [
                {
                    "data": {
                        "text/plain": "MODELING_GROUP\nTESTING       149\nTRAINING      146\nVALIDATION    126\nName: wookie, dtype: int64"
                    },
                    "execution_count": 47,
                    "metadata": {},
                    "output_type": "execute_result"
                }
            ],
            "source": "tips_summed = pd_well_id.groupby(['MODELING_GROUP'])['wookie'].count()\ntips_summed"
        },
        {
            "cell_type": "markdown",
            "metadata": {},
            "source": "Append the Group of each id to each individual record"
        },
        {
            "cell_type": "code",
            "execution_count": 48,
            "metadata": {
                "scrolled": true
            },
            "outputs": [],
            "source": "pd_data=pd_data.sort_values(by=['WELL_ID'], ascending=[True])\npd_well_id=pd_well_id.sort_values(by=['WELL_ID'], ascending=[True])"
        },
        {
            "cell_type": "code",
            "execution_count": 49,
            "metadata": {
                "scrolled": true
            },
            "outputs": [
                {
                    "data": {
                        "text/html": "<div>\n<style scoped>\n    .dataframe tbody tr th:only-of-type {\n        vertical-align: middle;\n    }\n\n    .dataframe tbody tr th {\n        vertical-align: top;\n    }\n\n    .dataframe thead th {\n        text-align: right;\n    }\n</style>\n<table border=\"1\" class=\"dataframe\">\n  <thead>\n    <tr style=\"text-align: right;\">\n      <th></th>\n      <th>index</th>\n      <th>WELL_ID</th>\n      <th>DATE</th>\n      <th>REGION_CLUSTER</th>\n      <th>MAINTENANCE_VENDOR</th>\n      <th>MANUFACTURER</th>\n      <th>WELL_GROUP</th>\n      <th>S15</th>\n      <th>S17</th>\n      <th>S13</th>\n      <th>...</th>\n      <th>S16_chg</th>\n      <th>S17_chg</th>\n      <th>S18_chg</th>\n      <th>S19_chg</th>\n      <th>FAILURE_DATE</th>\n      <th>C</th>\n      <th>TIME_TO_FAILURE</th>\n      <th>FAILURE_TARGET</th>\n      <th>wookie</th>\n      <th>MODELING_GROUP</th>\n    </tr>\n  </thead>\n  <tbody>\n    <tr>\n      <th>0</th>\n      <td>0</td>\n      <td>100001.0</td>\n      <td>2014-12-02</td>\n      <td>G</td>\n      <td>O</td>\n      <td>Y</td>\n      <td>1</td>\n      <td>11.088</td>\n      <td>145.223448</td>\n      <td>39.34</td>\n      <td>...</td>\n      <td>1.000000</td>\n      <td>1.0</td>\n      <td>1.000000</td>\n      <td>1.000000</td>\n      <td>2015-04-24</td>\n      <td>143 days</td>\n      <td>143.0</td>\n      <td>0</td>\n      <td>0.727</td>\n      <td>TESTING</td>\n    </tr>\n    <tr>\n      <th>1</th>\n      <td>1</td>\n      <td>100001.0</td>\n      <td>2016-03-29</td>\n      <td>G</td>\n      <td>O</td>\n      <td>Y</td>\n      <td>1</td>\n      <td>18.960</td>\n      <td>0.000000</td>\n      <td>38.87</td>\n      <td>...</td>\n      <td>1.136092</td>\n      <td>0.0</td>\n      <td>0.985460</td>\n      <td>1.000000</td>\n      <td>2015-04-24</td>\n      <td>-340 days</td>\n      <td>-340.0</td>\n      <td>0</td>\n      <td>0.727</td>\n      <td>TESTING</td>\n    </tr>\n    <tr>\n      <th>2</th>\n      <td>2</td>\n      <td>100001.0</td>\n      <td>2016-03-30</td>\n      <td>G</td>\n      <td>O</td>\n      <td>Y</td>\n      <td>1</td>\n      <td>29.040</td>\n      <td>0.000000</td>\n      <td>37.36</td>\n      <td>...</td>\n      <td>1.110177</td>\n      <td>0.0</td>\n      <td>0.977199</td>\n      <td>1.060606</td>\n      <td>2015-04-24</td>\n      <td>-341 days</td>\n      <td>-341.0</td>\n      <td>0</td>\n      <td>0.727</td>\n      <td>TESTING</td>\n    </tr>\n    <tr>\n      <th>3</th>\n      <td>3</td>\n      <td>100001.0</td>\n      <td>2016-03-31</td>\n      <td>G</td>\n      <td>O</td>\n      <td>Y</td>\n      <td>1</td>\n      <td>18.000</td>\n      <td>0.000000</td>\n      <td>38.81</td>\n      <td>...</td>\n      <td>0.910000</td>\n      <td>0.0</td>\n      <td>0.987958</td>\n      <td>1.044776</td>\n      <td>2015-04-24</td>\n      <td>-342 days</td>\n      <td>-342.0</td>\n      <td>0</td>\n      <td>0.727</td>\n      <td>TESTING</td>\n    </tr>\n    <tr>\n      <th>4</th>\n      <td>4</td>\n      <td>100001.0</td>\n      <td>2016-04-01</td>\n      <td>G</td>\n      <td>O</td>\n      <td>Y</td>\n      <td>1</td>\n      <td>26.160</td>\n      <td>0.000000</td>\n      <td>39.47</td>\n      <td>...</td>\n      <td>1.147059</td>\n      <td>0.0</td>\n      <td>0.998350</td>\n      <td>1.029412</td>\n      <td>2015-04-24</td>\n      <td>-343 days</td>\n      <td>-343.0</td>\n      <td>0</td>\n      <td>0.727</td>\n      <td>TESTING</td>\n    </tr>\n  </tbody>\n</table>\n<p>5 rows \u00d7 62 columns</p>\n</div>",
                        "text/plain": "   index   WELL_ID       DATE REGION_CLUSTER MAINTENANCE_VENDOR MANUFACTURER  \\\n0      0  100001.0 2014-12-02              G                  O            Y   \n1      1  100001.0 2016-03-29              G                  O            Y   \n2      2  100001.0 2016-03-30              G                  O            Y   \n3      3  100001.0 2016-03-31              G                  O            Y   \n4      4  100001.0 2016-04-01              G                  O            Y   \n\n   WELL_GROUP     S15         S17    S13  ...   S16_chg  S17_chg   S18_chg  \\\n0           1  11.088  145.223448  39.34  ...  1.000000      1.0  1.000000   \n1           1  18.960    0.000000  38.87  ...  1.136092      0.0  0.985460   \n2           1  29.040    0.000000  37.36  ...  1.110177      0.0  0.977199   \n3           1  18.000    0.000000  38.81  ...  0.910000      0.0  0.987958   \n4           1  26.160    0.000000  39.47  ...  1.147059      0.0  0.998350   \n\n    S19_chg  FAILURE_DATE         C  TIME_TO_FAILURE  FAILURE_TARGET wookie  \\\n0  1.000000    2015-04-24  143 days            143.0               0  0.727   \n1  1.000000    2015-04-24 -340 days           -340.0               0  0.727   \n2  1.060606    2015-04-24 -341 days           -341.0               0  0.727   \n3  1.044776    2015-04-24 -342 days           -342.0               0  0.727   \n4  1.029412    2015-04-24 -343 days           -343.0               0  0.727   \n\n   MODELING_GROUP  \n0         TESTING  \n1         TESTING  \n2         TESTING  \n3         TESTING  \n4         TESTING  \n\n[5 rows x 62 columns]"
                    },
                    "execution_count": 49,
                    "metadata": {},
                    "output_type": "execute_result"
                }
            ],
            "source": "pd_data =pd_data.merge(pd_well_id, on=['WELL_ID'], how='inner')\n\npd_data.head()"
        },
        {
            "cell_type": "markdown",
            "metadata": {},
            "source": "This is how many records are in each group."
        },
        {
            "cell_type": "code",
            "execution_count": 50,
            "metadata": {
                "scrolled": true
            },
            "outputs": [
                {
                    "data": {
                        "text/plain": "MODELING_GROUP\nTESTING       108919\nTRAINING      106726\nVALIDATION     92106\nName: wookie, dtype: int64"
                    },
                    "execution_count": 50,
                    "metadata": {},
                    "output_type": "execute_result"
                }
            ],
            "source": "tips_summed = pd_data.groupby(['MODELING_GROUP'])['wookie'].count()\ntips_summed"
        },
        {
            "cell_type": "markdown",
            "metadata": {},
            "source": "This is how many failure targets are in each group."
        },
        {
            "cell_type": "code",
            "execution_count": 51,
            "metadata": {
                "scrolled": true
            },
            "outputs": [
                {
                    "data": {
                        "text/plain": "MODELING_GROUP\nTESTING       4439\nTRAINING      4357\nVALIDATION    3768\nName: FAILURE_TARGET, dtype: int64"
                    },
                    "execution_count": 51,
                    "metadata": {},
                    "output_type": "execute_result"
                }
            ],
            "source": "tips_summed = pd_data.groupby(['MODELING_GROUP'])['FAILURE_TARGET'].sum()\ntips_summed"
        },
        {
            "cell_type": "markdown",
            "metadata": {},
            "source": "Create a separate data frame for the training data set and another for all groups together."
        },
        {
            "cell_type": "code",
            "execution_count": 52,
            "metadata": {
                "scrolled": true
            },
            "outputs": [
                {
                    "data": {
                        "text/plain": "(106726, 56)"
                    },
                    "execution_count": 52,
                    "metadata": {},
                    "output_type": "execute_result"
                }
            ],
            "source": "df_training=pd_data[pd_data['MODELING_GROUP'] == 'TRAINING']\n\ndf_training=df_training.drop(columns=['MODELING_GROUP','C','wookie','TIME_TO_FAILURE','flipper','START_DATE'])\ndf_training.shape"
        },
        {
            "cell_type": "code",
            "execution_count": 53,
            "metadata": {
                "scrolled": true
            },
            "outputs": [
                {
                    "data": {
                        "text/plain": "(307751, 57)"
                    },
                    "execution_count": 53,
                    "metadata": {},
                    "output_type": "execute_result"
                }
            ],
            "source": "df_total=pd_data.drop(columns=['C','wookie','TIME_TO_FAILURE','flipper','START_DATE'])\ndf_total.shape"
        },
        {
            "cell_type": "markdown",
            "metadata": {},
            "source": "### 4.3 SMOTE the Training Data <a id=\"smote\"></a>"
        },
        {
            "cell_type": "markdown",
            "metadata": {},
            "source": " Define the Training features and Target"
        },
        {
            "cell_type": "code",
            "execution_count": 54,
            "metadata": {
                "scrolled": true
            },
            "outputs": [],
            "source": "training_features=df_training[['REGION_CLUSTER','MAINTENANCE_VENDOR','MANUFACTURER','WELL_GROUP','AGE_OF_EQUIPMENT','S15','S17','S13','S5',\n 'S16','S19','S18','S8','S5_mean','S5_median','S5_max','S5_min','S13_mean','S13_median','S13_max','S13_min','S15_mean','S15_median',\n 'S15_max','S15_min','S16_mean','S16_median','S16_max','S16_min','S17_mean','S17_median','S17_max','S17_min','S18_mean','S18_median','S18_max','S18_min','S19_mean','S19_median','S19_max','S19_min',\n 'S5_chg','S13_chg','S15_chg','S16_chg','S17_chg','S18_chg','S19_chg']]"
        },
        {
            "cell_type": "code",
            "execution_count": 55,
            "metadata": {
                "scrolled": true
            },
            "outputs": [],
            "source": "training_target=df_training[['FAILURE_TARGET']]"
        },
        {
            "cell_type": "markdown",
            "metadata": {},
            "source": "Synthetically Balance the training data sets with a SMOTE algorithm.  After we apply the SMOTE algorithm, we will have a balanced data set.  50% Failures and 50% Non-Failures. Note that this takes a while to run."
        },
        {
            "cell_type": "code",
            "execution_count": 56,
            "metadata": {},
            "outputs": [],
            "source": "#uncomment these options if you want to expand the number of rows and columns that appear visually on the screen.\n\n#pd.set_option('display.max_columns', None)\n#pd.set_option('display.max_rows', None)"
        },
        {
            "cell_type": "code",
            "execution_count": 57,
            "metadata": {},
            "outputs": [],
            "source": "from imblearn.over_sampling import SMOTE\nfrom imblearn.over_sampling import SMOTENC\n#sm = SMOTE(random_state=12, ratio = 1.0)\nsmx = SMOTENC(random_state=12,  categorical_features=[0, 1, 2, 3])"
        },
        {
            "cell_type": "code",
            "execution_count": 58,
            "metadata": {},
            "outputs": [
                {
                    "name": "stderr",
                    "output_type": "stream",
                    "text": "/opt/conda/envs/Python36/lib/python3.6/site-packages/scipy/sparse/lil.py:512: FutureWarning:\n\nfuture versions will not create a writeable array from broadcast_array. Set the writable flag explicitly to avoid this warning.\n\n/opt/conda/envs/Python36/lib/python3.6/site-packages/scipy/sparse/lil.py:514: FutureWarning:\n\nfuture versions will not create a writeable array from broadcast_array. Set the writable flag explicitly to avoid this warning.\n\n/opt/conda/envs/Python36/lib/python3.6/site-packages/scipy/sparse/lil.py:518: FutureWarning:\n\nfuture versions will not create a writeable array from broadcast_array. Set the writable flag explicitly to avoid this warning.\n\n"
                }
            ],
            "source": "x_res, y_res = smx.fit_sample(training_features, training_target.values.ravel())"
        },
        {
            "cell_type": "markdown",
            "metadata": {},
            "source": "Convert the SMOTE output back to complete data frames with independent and dependent variables.  Examine the results."
        },
        {
            "cell_type": "markdown",
            "metadata": {},
            "source": "Format the Independent Variables"
        },
        {
            "cell_type": "code",
            "execution_count": 59,
            "metadata": {},
            "outputs": [
                {
                    "data": {
                        "text/html": "<div>\n<style scoped>\n    .dataframe tbody tr th:only-of-type {\n        vertical-align: middle;\n    }\n\n    .dataframe tbody tr th {\n        vertical-align: top;\n    }\n\n    .dataframe thead th {\n        text-align: right;\n    }\n</style>\n<table border=\"1\" class=\"dataframe\">\n  <thead>\n    <tr style=\"text-align: right;\">\n      <th></th>\n      <th>REGION_CLUSTER</th>\n      <th>MAINTENANCE_VENDOR</th>\n      <th>MANUFACTURER</th>\n      <th>WELL_GROUP</th>\n      <th>AGE_OF_EQUIPMENT</th>\n      <th>S15</th>\n      <th>S17</th>\n      <th>S13</th>\n      <th>S5</th>\n      <th>S16</th>\n      <th>...</th>\n      <th>S19_median</th>\n      <th>S19_max</th>\n      <th>S19_min</th>\n      <th>S5_chg</th>\n      <th>S13_chg</th>\n      <th>S15_chg</th>\n      <th>S16_chg</th>\n      <th>S17_chg</th>\n      <th>S18_chg</th>\n      <th>S19_chg</th>\n    </tr>\n  </thead>\n  <tbody>\n    <tr>\n      <th>0</th>\n      <td>D</td>\n      <td>L</td>\n      <td>R</td>\n      <td>6</td>\n      <td>1308.0</td>\n      <td>15.5184</td>\n      <td>188.10</td>\n      <td>36.29</td>\n      <td>4318.0</td>\n      <td>8.0073</td>\n      <td>...</td>\n      <td>22.4</td>\n      <td>22.4</td>\n      <td>22.4</td>\n      <td>1.000046</td>\n      <td>1.000165</td>\n      <td>1.189084</td>\n      <td>1.031911</td>\n      <td>1.045872</td>\n      <td>0.995986</td>\n      <td>1.000000</td>\n    </tr>\n    <tr>\n      <th>1</th>\n      <td>D</td>\n      <td>L</td>\n      <td>R</td>\n      <td>6</td>\n      <td>1307.0</td>\n      <td>10.3032</td>\n      <td>149.24</td>\n      <td>36.78</td>\n      <td>4377.0</td>\n      <td>7.0766</td>\n      <td>...</td>\n      <td>22.4</td>\n      <td>22.4</td>\n      <td>22.4</td>\n      <td>1.009270</td>\n      <td>1.009275</td>\n      <td>0.789474</td>\n      <td>0.875074</td>\n      <td>0.872269</td>\n      <td>0.995300</td>\n      <td>1.000000</td>\n    </tr>\n    <tr>\n      <th>2</th>\n      <td>D</td>\n      <td>L</td>\n      <td>R</td>\n      <td>6</td>\n      <td>1306.0</td>\n      <td>11.4480</td>\n      <td>187.45</td>\n      <td>35.84</td>\n      <td>4265.0</td>\n      <td>8.0259</td>\n      <td>...</td>\n      <td>22.4</td>\n      <td>22.4</td>\n      <td>22.4</td>\n      <td>0.979424</td>\n      <td>0.979449</td>\n      <td>0.816697</td>\n      <td>0.953784</td>\n      <td>1.096763</td>\n      <td>0.993660</td>\n      <td>1.000000</td>\n    </tr>\n    <tr>\n      <th>3</th>\n      <td>D</td>\n      <td>L</td>\n      <td>R</td>\n      <td>6</td>\n      <td>1302.0</td>\n      <td>15.1368</td>\n      <td>148.33</td>\n      <td>37.53</td>\n      <td>4466.0</td>\n      <td>8.7163</td>\n      <td>...</td>\n      <td>28.9</td>\n      <td>28.9</td>\n      <td>22.4</td>\n      <td>1.018240</td>\n      <td>1.018232</td>\n      <td>1.109177</td>\n      <td>1.051368</td>\n      <td>1.029955</td>\n      <td>1.022235</td>\n      <td>0.851711</td>\n    </tr>\n    <tr>\n      <th>4</th>\n      <td>D</td>\n      <td>L</td>\n      <td>R</td>\n      <td>6</td>\n      <td>1304.0</td>\n      <td>14.3736</td>\n      <td>179.30</td>\n      <td>36.31</td>\n      <td>4321.0</td>\n      <td>7.9396</td>\n      <td>...</td>\n      <td>22.4</td>\n      <td>28.9</td>\n      <td>22.4</td>\n      <td>0.983924</td>\n      <td>0.983904</td>\n      <td>1.028331</td>\n      <td>0.912023</td>\n      <td>1.196498</td>\n      <td>1.016783</td>\n      <td>0.945148</td>\n    </tr>\n  </tbody>\n</table>\n<p>5 rows \u00d7 48 columns</p>\n</div>",
                        "text/plain": "  REGION_CLUSTER MAINTENANCE_VENDOR MANUFACTURER  WELL_GROUP  \\\n0              D                  L            R           6   \n1              D                  L            R           6   \n2              D                  L            R           6   \n3              D                  L            R           6   \n4              D                  L            R           6   \n\n   AGE_OF_EQUIPMENT      S15     S17    S13      S5     S16  ...  S19_median  \\\n0            1308.0  15.5184  188.10  36.29  4318.0  8.0073  ...        22.4   \n1            1307.0  10.3032  149.24  36.78  4377.0  7.0766  ...        22.4   \n2            1306.0  11.4480  187.45  35.84  4265.0  8.0259  ...        22.4   \n3            1302.0  15.1368  148.33  37.53  4466.0  8.7163  ...        28.9   \n4            1304.0  14.3736  179.30  36.31  4321.0  7.9396  ...        22.4   \n\n   S19_max  S19_min    S5_chg   S13_chg   S15_chg   S16_chg   S17_chg  \\\n0     22.4     22.4  1.000046  1.000165  1.189084  1.031911  1.045872   \n1     22.4     22.4  1.009270  1.009275  0.789474  0.875074  0.872269   \n2     22.4     22.4  0.979424  0.979449  0.816697  0.953784  1.096763   \n3     28.9     22.4  1.018240  1.018232  1.109177  1.051368  1.029955   \n4     28.9     22.4  0.983924  0.983904  1.028331  0.912023  1.196498   \n\n    S18_chg   S19_chg  \n0  0.995986  1.000000  \n1  0.995300  1.000000  \n2  0.993660  1.000000  \n3  1.022235  0.851711  \n4  1.016783  0.945148  \n\n[5 rows x 48 columns]"
                    },
                    "execution_count": 59,
                    "metadata": {},
                    "output_type": "execute_result"
                }
            ],
            "source": "df_x=pd.DataFrame(x_res)\n\ndf_x.columns = [\n 'REGION_CLUSTER','MAINTENANCE_VENDOR','MANUFACTURER','WELL_GROUP','AGE_OF_EQUIPMENT','S15','S17','S13','S5','S16','S19',\n 'S18','S8','S5_mean','S5_median','S5_max','S5_min','S13_mean','S13_median','S13_max','S13_min','S15_mean','S15_median','S15_max',\n 'S15_min','S16_mean','S16_median','S16_max','S16_min','S17_mean','S17_median','S17_max','S17_min','S18_mean','S18_median','S18_max','S18_min',\n 'S19_mean','S19_median','S19_max','S19_min','S5_chg','S13_chg','S15_chg','S16_chg','S17_chg','S18_chg','S19_chg']\ndf_x.head()"
        },
        {
            "cell_type": "markdown",
            "metadata": {},
            "source": "Format the Dependent Variable"
        },
        {
            "cell_type": "code",
            "execution_count": 60,
            "metadata": {},
            "outputs": [],
            "source": "df_y=pd.DataFrame(y_res)\ndf_y.columns = ['FAILURE_TARGET']"
        },
        {
            "cell_type": "markdown",
            "metadata": {},
            "source": "Check that the dependent variable is balanced.  It is."
        },
        {
            "cell_type": "code",
            "execution_count": 61,
            "metadata": {},
            "outputs": [
                {
                    "data": {
                        "text/plain": "FAILURE_TARGET    0.5\ndtype: float64"
                    },
                    "execution_count": 61,
                    "metadata": {},
                    "output_type": "execute_result"
                }
            ],
            "source": "df_y.mean(axis = 0) "
        },
        {
            "cell_type": "markdown",
            "metadata": {
                "scrolled": true
            },
            "source": "Merge the dependent and independent variables post SMOTE into data frames"
        },
        {
            "cell_type": "code",
            "execution_count": 62,
            "metadata": {},
            "outputs": [
                {
                    "data": {
                        "text/html": "<div>\n<style scoped>\n    .dataframe tbody tr th:only-of-type {\n        vertical-align: middle;\n    }\n\n    .dataframe tbody tr th {\n        vertical-align: top;\n    }\n\n    .dataframe thead th {\n        text-align: right;\n    }\n</style>\n<table border=\"1\" class=\"dataframe\">\n  <thead>\n    <tr style=\"text-align: right;\">\n      <th></th>\n      <th>FAILURE_TARGET</th>\n      <th>REGION_CLUSTER</th>\n      <th>MAINTENANCE_VENDOR</th>\n      <th>MANUFACTURER</th>\n      <th>WELL_GROUP</th>\n      <th>AGE_OF_EQUIPMENT</th>\n      <th>S15</th>\n      <th>S17</th>\n      <th>S13</th>\n      <th>S5</th>\n      <th>...</th>\n      <th>S19_median</th>\n      <th>S19_max</th>\n      <th>S19_min</th>\n      <th>S5_chg</th>\n      <th>S13_chg</th>\n      <th>S15_chg</th>\n      <th>S16_chg</th>\n      <th>S17_chg</th>\n      <th>S18_chg</th>\n      <th>S19_chg</th>\n    </tr>\n  </thead>\n  <tbody>\n    <tr>\n      <th>0</th>\n      <td>0</td>\n      <td>D</td>\n      <td>L</td>\n      <td>R</td>\n      <td>6</td>\n      <td>1308.0</td>\n      <td>15.5184</td>\n      <td>188.10</td>\n      <td>36.29</td>\n      <td>4318.0</td>\n      <td>...</td>\n      <td>22.4</td>\n      <td>22.4</td>\n      <td>22.4</td>\n      <td>1.000046</td>\n      <td>1.000165</td>\n      <td>1.189084</td>\n      <td>1.031911</td>\n      <td>1.045872</td>\n      <td>0.995986</td>\n      <td>1.000000</td>\n    </tr>\n    <tr>\n      <th>1</th>\n      <td>0</td>\n      <td>D</td>\n      <td>L</td>\n      <td>R</td>\n      <td>6</td>\n      <td>1307.0</td>\n      <td>10.3032</td>\n      <td>149.24</td>\n      <td>36.78</td>\n      <td>4377.0</td>\n      <td>...</td>\n      <td>22.4</td>\n      <td>22.4</td>\n      <td>22.4</td>\n      <td>1.009270</td>\n      <td>1.009275</td>\n      <td>0.789474</td>\n      <td>0.875074</td>\n      <td>0.872269</td>\n      <td>0.995300</td>\n      <td>1.000000</td>\n    </tr>\n    <tr>\n      <th>2</th>\n      <td>0</td>\n      <td>D</td>\n      <td>L</td>\n      <td>R</td>\n      <td>6</td>\n      <td>1306.0</td>\n      <td>11.4480</td>\n      <td>187.45</td>\n      <td>35.84</td>\n      <td>4265.0</td>\n      <td>...</td>\n      <td>22.4</td>\n      <td>22.4</td>\n      <td>22.4</td>\n      <td>0.979424</td>\n      <td>0.979449</td>\n      <td>0.816697</td>\n      <td>0.953784</td>\n      <td>1.096763</td>\n      <td>0.993660</td>\n      <td>1.000000</td>\n    </tr>\n    <tr>\n      <th>3</th>\n      <td>0</td>\n      <td>D</td>\n      <td>L</td>\n      <td>R</td>\n      <td>6</td>\n      <td>1302.0</td>\n      <td>15.1368</td>\n      <td>148.33</td>\n      <td>37.53</td>\n      <td>4466.0</td>\n      <td>...</td>\n      <td>28.9</td>\n      <td>28.9</td>\n      <td>22.4</td>\n      <td>1.018240</td>\n      <td>1.018232</td>\n      <td>1.109177</td>\n      <td>1.051368</td>\n      <td>1.029955</td>\n      <td>1.022235</td>\n      <td>0.851711</td>\n    </tr>\n    <tr>\n      <th>4</th>\n      <td>0</td>\n      <td>D</td>\n      <td>L</td>\n      <td>R</td>\n      <td>6</td>\n      <td>1304.0</td>\n      <td>14.3736</td>\n      <td>179.30</td>\n      <td>36.31</td>\n      <td>4321.0</td>\n      <td>...</td>\n      <td>22.4</td>\n      <td>28.9</td>\n      <td>22.4</td>\n      <td>0.983924</td>\n      <td>0.983904</td>\n      <td>1.028331</td>\n      <td>0.912023</td>\n      <td>1.196498</td>\n      <td>1.016783</td>\n      <td>0.945148</td>\n    </tr>\n  </tbody>\n</table>\n<p>5 rows \u00d7 49 columns</p>\n</div>",
                        "text/plain": "   FAILURE_TARGET REGION_CLUSTER MAINTENANCE_VENDOR MANUFACTURER  WELL_GROUP  \\\n0               0              D                  L            R           6   \n1               0              D                  L            R           6   \n2               0              D                  L            R           6   \n3               0              D                  L            R           6   \n4               0              D                  L            R           6   \n\n   AGE_OF_EQUIPMENT      S15     S17    S13      S5  ...  S19_median  S19_max  \\\n0            1308.0  15.5184  188.10  36.29  4318.0  ...        22.4     22.4   \n1            1307.0  10.3032  149.24  36.78  4377.0  ...        22.4     22.4   \n2            1306.0  11.4480  187.45  35.84  4265.0  ...        22.4     22.4   \n3            1302.0  15.1368  148.33  37.53  4466.0  ...        28.9     28.9   \n4            1304.0  14.3736  179.30  36.31  4321.0  ...        22.4     28.9   \n\n   S19_min    S5_chg   S13_chg   S15_chg   S16_chg   S17_chg   S18_chg  \\\n0     22.4  1.000046  1.000165  1.189084  1.031911  1.045872  0.995986   \n1     22.4  1.009270  1.009275  0.789474  0.875074  0.872269  0.995300   \n2     22.4  0.979424  0.979449  0.816697  0.953784  1.096763  0.993660   \n3     22.4  1.018240  1.018232  1.109177  1.051368  1.029955  1.022235   \n4     22.4  0.983924  0.983904  1.028331  0.912023  1.196498  1.016783   \n\n    S19_chg  \n0  1.000000  \n1  1.000000  \n2  1.000000  \n3  0.851711  \n4  0.945148  \n\n[5 rows x 49 columns]"
                    },
                    "execution_count": 62,
                    "metadata": {},
                    "output_type": "execute_result"
                }
            ],
            "source": "df_balanced = pd.concat([df_y, df_x], axis=1)\ndf_balanced.head()"
        },
        {
            "cell_type": "markdown",
            "metadata": {},
            "source": "## 5.0 More data transformation and feature engineering <a id=\"more\"></a>"
        },
        {
            "cell_type": "markdown",
            "metadata": {},
            "source": "Convert the categorical variables into binary dummy variables. We need to do this because the XGBT model (below) doesn't like categorical fields."
        },
        {
            "cell_type": "code",
            "execution_count": 63,
            "metadata": {},
            "outputs": [],
            "source": "df_dv = pd.get_dummies(df_balanced['REGION_CLUSTER'])\n\ndf_dv=df_dv.rename(columns={\"A\": \"CLUSTER_A\",\"B\":\"CLUSTER_B\",\"C\":\"CLUSTER_C\",\"D\":\"CLUSTER_D\",\"E\":\"CLUSTER_E\",\"F\":\"CLUSTER_F\",\"G\":\"CLUSTER_G\",\"H\":\"CLUSTER_H\"})\n\n\ndf_balanced= pd.concat([df_balanced, df_dv], axis=1)\n\n\ndf_dv = pd.get_dummies(df_balanced['MAINTENANCE_VENDOR'])\n\ndf_dv=df_dv.rename(columns={\"I\": \"MV_I\",\"J\":\"MV_J\",\"K\":\"MV_K\",\"L\":\"MV_L\",\"M\":\"MV_M\",\"N\":\"MV_N\",\"O\":\"MV_O\",\"P\":\"MV_P\"})\n\n\ndf_balanced = pd.concat([df_balanced, df_dv], axis=1)\n\n\n\ndf_dv = pd.get_dummies(df_balanced['MANUFACTURER'])\n\ndf_dv=df_dv.rename(columns={\"Q\": \"MN_Q\",\"R\":\"MN_R\",\"S\":\"MN_S\",\"T\":\"MN_T\",\"U\":\"MN_U\",\"V\":\"MN_V\",\"W\":\"MN_W\",\"X\":\"MN_X\",\"Y\":\"MN_Y\",\"Z\":\"MN_Z\"})\n\n\ndf_balanced = pd.concat([df_balanced, df_dv], axis=1)\n\n\ndf_dv = pd.get_dummies(df_balanced['WELL_GROUP'])\n\ndf_dv=df_dv.rename(columns={1: \"WG_1\",2:\"WG_2\",3:\"WG_3\",4:\"WG_4\",5:\"WG_5\",6:\"WG_6\",7:\"WG_7\",8:\"WG_8\"})\n\n\ndf_balanced = pd.concat([df_balanced, df_dv], axis=1)\n"
        },
        {
            "cell_type": "code",
            "execution_count": 64,
            "metadata": {},
            "outputs": [],
            "source": "df_dv = pd.get_dummies(df_training['REGION_CLUSTER'])\n\ndf_dv=df_dv.rename(columns={\"A\": \"CLUSTER_A\",\"B\":\"CLUSTER_B\",\"C\":\"CLUSTER_C\",\"D\":\"CLUSTER_D\",\"E\":\"CLUSTER_E\",\"F\":\"CLUSTER_F\",\"G\":\"CLUSTER_G\",\"H\":\"CLUSTER_H\"})\n\n\ndf_training= pd.concat([df_training, df_dv], axis=1)\n\n\ndf_dv = pd.get_dummies(df_training['MAINTENANCE_VENDOR'])\n\ndf_dv=df_dv.rename(columns={\"I\": \"MV_I\",\"J\":\"MV_J\",\"K\":\"MV_K\",\"L\":\"MV_L\",\"M\":\"MV_M\",\"N\":\"MV_N\",\"O\":\"MV_O\",\"P\":\"MV_P\"})\n\n\ndf_training = pd.concat([df_training, df_dv], axis=1)\n\n\n\ndf_dv = pd.get_dummies(df_training['MANUFACTURER'])\n\ndf_dv=df_dv.rename(columns={\"Q\": \"MN_Q\",\"R\":\"MN_R\",\"S\":\"MN_S\",\"T\":\"MN_T\",\"U\":\"MN_U\",\"V\":\"MN_V\",\"W\":\"MN_W\",\"X\":\"MN_X\",\"Y\":\"MN_Y\",\"Z\":\"MN_Z\"})\n\n\ndf_training = pd.concat([df_training, df_dv], axis=1)\n\n\ndf_dv = pd.get_dummies(df_training['WELL_GROUP'])\n\ndf_dv=df_dv.rename(columns={1: \"WG_1\",2:\"WG_2\",3:\"WG_3\",4:\"WG_4\",5:\"WG_5\",6:\"WG_6\",7:\"WG_7\",8:\"WG_8\"})\n\n\ndf_training = pd.concat([df_training, df_dv], axis=1)\n\n"
        },
        {
            "cell_type": "code",
            "execution_count": 65,
            "metadata": {},
            "outputs": [],
            "source": "df_dv = pd.get_dummies(df_total['REGION_CLUSTER'])\n\ndf_dv=df_dv.rename(columns={\"A\": \"CLUSTER_A\",\"B\":\"CLUSTER_B\",\"C\":\"CLUSTER_C\",\"D\":\"CLUSTER_D\",\"E\":\"CLUSTER_E\",\"F\":\"CLUSTER_F\",\"G\":\"CLUSTER_G\",\"H\":\"CLUSTER_H\"})\n\n\ndf_total= pd.concat([df_total, df_dv], axis=1)\n\n\ndf_dv = pd.get_dummies(df_total['MAINTENANCE_VENDOR'])\n\ndf_dv=df_dv.rename(columns={\"I\": \"MV_I\",\"J\":\"MV_J\",\"K\":\"MV_K\",\"L\":\"MV_L\",\"M\":\"MV_M\",\"N\":\"MV_N\",\"O\":\"MV_O\",\"P\":\"MV_P\"})\n\n\ndf_total = pd.concat([df_total, df_dv], axis=1)\n\n\n\ndf_dv = pd.get_dummies(df_total['MANUFACTURER'])\n\ndf_dv=df_dv.rename(columns={\"Q\": \"MN_Q\",\"R\":\"MN_R\",\"S\":\"MN_S\",\"T\":\"MN_T\",\"U\":\"MN_U\",\"V\":\"MN_V\",\"W\":\"MN_W\",\"X\":\"MN_X\",\"Y\":\"MN_Y\",\"Z\":\"MN_Z\"})\n\n\ndf_total = pd.concat([df_total, df_dv], axis=1)\n\n\ndf_dv = pd.get_dummies(df_total['WELL_GROUP'])\n\ndf_dv=df_dv.rename(columns={1: \"WG_1\",2:\"WG_2\",3:\"WG_3\",4:\"WG_4\",5:\"WG_5\",6:\"WG_6\",7:\"WG_7\",8:\"WG_8\"})\n\n\ndf_total = pd.concat([df_total, df_dv], axis=1)"
        },
        {
            "cell_type": "markdown",
            "metadata": {},
            "source": "## 6.0 Build the model on the balanced training data set <a id=\"build\"></a>"
        },
        {
            "cell_type": "code",
            "execution_count": 66,
            "metadata": {},
            "outputs": [],
            "source": "# Remove the newly redundant categorical variables.  This are now represented by dummy variables.\ndf_balanced=df_balanced.drop(columns=['REGION_CLUSTER','MAINTENANCE_VENDOR','MANUFACTURER','WELL_GROUP'])"
        },
        {
            "cell_type": "markdown",
            "metadata": {},
            "source": "In the balanced data set, Separate the dependent and independent variables to feed to the model development process."
        },
        {
            "cell_type": "code",
            "execution_count": 67,
            "metadata": {},
            "outputs": [],
            "source": "\nfeatures = [x for x in df_balanced.columns if x not in ['FAILURE_TARGET','EQUIPMENT_FAILURE']]  \ndependent=pd.DataFrame(df_balanced['FAILURE_TARGET'])\n\nindependent=df_balanced.drop(columns=['FAILURE_TARGET'])"
        },
        {
            "cell_type": "code",
            "execution_count": 68,
            "metadata": {},
            "outputs": [],
            "source": "#make sure everything is numeric for simplicity\nindependent = independent.apply(pd.to_numeric) \ndf_balanced = df_balanced.apply(pd.to_numeric)"
        },
        {
            "cell_type": "markdown",
            "metadata": {},
            "source": "Define model specs"
        },
        {
            "cell_type": "code",
            "execution_count": 69,
            "metadata": {},
            "outputs": [],
            "source": "import matplotlib.pylab as plt\n%matplotlib inline\n\ndef evaluate_model(alg, train, target, predictors,  early_stopping_rounds=1):\n    \n   \n    #Fit the algorithm on the data\n    alg.fit(train[predictors], target['FAILURE_TARGET'], eval_metric='auc')\n        \n    #Predict training set:\n    dtrain_predictions = alg.predict(train[predictors])\n    dtrain_predprob = alg.predict_proba(train[predictors])[:,1]\n    \n    feat_imp = pd.Series(alg.get_booster().get_fscore()).sort_values(ascending=False) \n    feat_imp.plot(kind='bar', title='Feature Importance', color='g') \n    plt.ylabel('Feature Importance Score')\n        \n    #Print model report:\n    print(\"\\nModel Report\")\n    print(\"Accuracy : %.4g\" % metrics.accuracy_score(target['FAILURE_TARGET'].values, dtrain_predictions))\n    print(\"AUC Score (Balanced): %f\" % metrics.roc_auc_score(target['FAILURE_TARGET'], dtrain_predprob))"
        },
        {
            "cell_type": "markdown",
            "metadata": {},
            "source": "Initializing our model with default parameters.  Note that we could probably improve the results by tweaking the parameters, but we will save that exercise for another day.  This step can take a while."
        },
        {
            "cell_type": "code",
            "execution_count": 70,
            "metadata": {},
            "outputs": [
                {
                    "name": "stdout",
                    "output_type": "stream",
                    "text": "\nModel Report\nAccuracy : 0.7945\nAUC Score (Balanced): 0.880284\n"
                },
                {
                    "data": {
                        "image/png": "[encoded data removed]",
                        "text/plain": "<Figure size 432x288 with 1 Axes>"
                    },
                    "metadata": {
                        "needs_background": "light"
                    },
                    "output_type": "display_data"
                }
            ],
            "source": "xgb0 = XGBClassifier(\n objective= 'binary:logistic')\n\nevaluate_model(xgb0, independent, dependent,features) "
        },
        {
            "cell_type": "markdown",
            "metadata": {},
            "source": "Using a 50% cut-off on the balanced data, the accuracy is 79.5% and the AUC score is 88%"
        },
        {
            "cell_type": "markdown",
            "metadata": {},
            "source": "Now, we will apply the model to the unbalanced training data set."
        },
        {
            "cell_type": "markdown",
            "metadata": {},
            "source": "## 7.0 Score the unbalanced training data set. <a id=\"score\"></a>"
        },
        {
            "cell_type": "code",
            "execution_count": 71,
            "metadata": {},
            "outputs": [],
            "source": "df_training['P_FAIL']= xgb0.predict_proba(df_training[features])[:,1];\n"
        },
        {
            "cell_type": "markdown",
            "metadata": {},
            "source": "Use a cut-off of .67 to categorize the p value into a binary variable."
        },
        {
            "cell_type": "code",
            "execution_count": 72,
            "metadata": {},
            "outputs": [],
            "source": "df_training['Y_FAIL'] = np.where(((df_training.P_FAIL <= .67)), 0, 1)\n"
        },
        {
            "cell_type": "markdown",
            "metadata": {},
            "source": "Build a ROC Curve"
        },
        {
            "cell_type": "code",
            "execution_count": 73,
            "metadata": {},
            "outputs": [
                {
                    "data": {
                        "image/png": "[encoded data removed]",
                        "text/plain": "<Figure size 432x288 with 1 Axes>"
                    },
                    "metadata": {
                        "needs_background": "light"
                    },
                    "output_type": "display_data"
                }
            ],
            "source": "fpr, tpr, threshold=metrics.roc_curve(df_training['FAILURE_TARGET'], df_training['P_FAIL'])\nroc_auc = metrics.auc(fpr, tpr)\nimport matplotlib.pyplot as plt\nplt.title('Receiver Operating Characteristic')\nplt.plot(fpr, tpr, 'b', label = 'AUC = %0.2f' % roc_auc)\nplt.legend(loc = 'lower right')\nplt.plot([0, 1], [0, 1],'r--')\nplt.xlim([0, 1])\nplt.ylim([0, 1])\nplt.ylabel('True Positive Rate')\nplt.xlabel('False Positive Rate')\nplt.show()"
        },
        {
            "cell_type": "code",
            "execution_count": 74,
            "metadata": {},
            "outputs": [
                {
                    "data": {
                        "text/plain": "0.04399115492007571"
                    },
                    "execution_count": 74,
                    "metadata": {},
                    "output_type": "execute_result"
                }
            ],
            "source": "\ndf_training['Y_FAIL'].mean()"
        },
        {
            "cell_type": "markdown",
            "metadata": {},
            "source": "With a cut-off of .67 the unblananced training data set has an accuracy of 94% and AUC Score of 82%"
        },
        {
            "cell_type": "code",
            "execution_count": 75,
            "metadata": {},
            "outputs": [
                {
                    "name": "stdout",
                    "output_type": "stream",
                    "text": "Accuracy : 0.9365\nAUC Score (Test): 0.820804\n"
                }
            ],
            "source": "#Print model report:\nprint(\"Accuracy : %.4g\" % metrics.accuracy_score(df_training['FAILURE_TARGET'].values, df_training['Y_FAIL']))\nprint(\"AUC Score (Test): %f\" % metrics.roc_auc_score(df_training['FAILURE_TARGET'], df_training['P_FAIL']))"
        },
        {
            "cell_type": "markdown",
            "metadata": {},
            "source": "Create a confusion Matrix"
        },
        {
            "cell_type": "code",
            "execution_count": 76,
            "metadata": {},
            "outputs": [
                {
                    "name": "stdout",
                    "output_type": "stream",
                    "text": "FAILURE_TARGET      0     1\nY_FAIL                     \n0               98812  3219\n1                3557  1138\n"
                },
                {
                    "data": {
                        "text/html": "<div>\n<style scoped>\n    .dataframe tbody tr th:only-of-type {\n        vertical-align: middle;\n    }\n\n    .dataframe tbody tr th {\n        vertical-align: top;\n    }\n\n    .dataframe thead th {\n        text-align: right;\n    }\n</style>\n<table border=\"1\" class=\"dataframe\">\n  <thead>\n    <tr style=\"text-align: right;\">\n      <th>FAILURE_TARGET</th>\n      <th>0</th>\n      <th>1</th>\n    </tr>\n    <tr>\n      <th>Y_FAIL</th>\n      <th></th>\n      <th></th>\n    </tr>\n  </thead>\n  <tbody>\n    <tr>\n      <th>0</th>\n      <td>0.968451</td>\n      <td>0.031549</td>\n    </tr>\n    <tr>\n      <th>1</th>\n      <td>0.757614</td>\n      <td>0.242386</td>\n    </tr>\n  </tbody>\n</table>\n</div>",
                        "text/plain": "FAILURE_TARGET         0         1\nY_FAIL                            \n0               0.968451  0.031549\n1               0.757614  0.242386"
                    },
                    "execution_count": 76,
                    "metadata": {},
                    "output_type": "execute_result"
                }
            ],
            "source": "print(pd.crosstab(df_training.Y_FAIL, df_training.FAILURE_TARGET, dropna=False))\npd.crosstab(df_training.Y_FAIL, df_training.FAILURE_TARGET).apply(lambda r: r/r.sum(), axis=1)"
        },
        {
            "cell_type": "markdown",
            "metadata": {},
            "source": "Above is a confusion matrix of a predicted failure against our 30 day lead time failure target.  Let's examine a confusion matrix that details predicted failures with actual failures."
        },
        {
            "cell_type": "code",
            "execution_count": 77,
            "metadata": {},
            "outputs": [
                {
                    "name": "stdout",
                    "output_type": "stream",
                    "text": "EQUIPMENT_FAILURE     0.0  1.0\nY_FAIL                        \n0                  101964   67\n1                    4616   79\n"
                },
                {
                    "data": {
                        "text/html": "<div>\n<style scoped>\n    .dataframe tbody tr th:only-of-type {\n        vertical-align: middle;\n    }\n\n    .dataframe tbody tr th {\n        vertical-align: top;\n    }\n\n    .dataframe thead th {\n        text-align: right;\n    }\n</style>\n<table border=\"1\" class=\"dataframe\">\n  <thead>\n    <tr style=\"text-align: right;\">\n      <th>EQUIPMENT_FAILURE</th>\n      <th>0.0</th>\n      <th>1.0</th>\n    </tr>\n    <tr>\n      <th>Y_FAIL</th>\n      <th></th>\n      <th></th>\n    </tr>\n  </thead>\n  <tbody>\n    <tr>\n      <th>0</th>\n      <td>0.999343</td>\n      <td>0.000657</td>\n    </tr>\n    <tr>\n      <th>1</th>\n      <td>0.983174</td>\n      <td>0.016826</td>\n    </tr>\n  </tbody>\n</table>\n</div>",
                        "text/plain": "EQUIPMENT_FAILURE       0.0       1.0\nY_FAIL                               \n0                  0.999343  0.000657\n1                  0.983174  0.016826"
                    },
                    "execution_count": 77,
                    "metadata": {},
                    "output_type": "execute_result"
                }
            ],
            "source": "print(pd.crosstab(df_training.Y_FAIL, df_training.EQUIPMENT_FAILURE, dropna=False))\npd.crosstab(df_training.Y_FAIL, df_training.EQUIPMENT_FAILURE).apply(lambda r: r/r.sum(), axis=1)"
        },
        {
            "cell_type": "markdown",
            "metadata": {},
            "source": "Neither of the confusion matrices above represent reality. \n\nThink about it. In the confusion matrix above, a true positive only occurs if a failure occurs on the same day as the signal. What if a signal happens on Monday and it failed on Tuesday? I would count that as a true positive, but the confusion matrix above does not.\n\nSo, we have some cleaning up to do. In the next section, we will build a confusion matrix that is more realistic.\n\n\n"
        },
        {
            "cell_type": "markdown",
            "metadata": {},
            "source": "## 8.0 Business Rules and Heuristics <a id=\"bus\"></a>"
        },
        {
            "cell_type": "markdown",
            "metadata": {},
            "source": "First, we will create a business rule that eliminates signals in \u201cbunches\u201d.  For example, if there is a signal on Monday, Tuesday and Wednesday, you likely don't have three separate problems.  You more than likely have one problem that was flagged on three consecutive days.  \n\nTo reduce the repetitive signals, we will create a business rule.   This business rule will prohibit more than one signal every 120 days.  In a sense, we previously expanded the failure window.  Now, we are collapsing it.\n\n"
        },
        {
            "cell_type": "code",
            "execution_count": 78,
            "metadata": {},
            "outputs": [],
            "source": "#sort the data by well_id and date.\nxx=df_training\nxx=xx.sort_values(by=['WELL_ID','DATE'], ascending=[True, True])"
        },
        {
            "cell_type": "code",
            "execution_count": 79,
            "metadata": {},
            "outputs": [],
            "source": "# sum of the number of predicted failures over the last 120 days.  If there are less than 120 days, vary the sum to reflect the truncated number of days in history.\n\n\nxx['Y_FAIL_sumx'] =np.where(xx.TIME_SINCE_START==1, (xx['Y_FAIL'].rolling(min_periods=1, window=1).sum()),\n                            np.where(xx.TIME_SINCE_START==2, (xx['Y_FAIL'].rolling(min_periods=1, window=2).sum()),\n                            np.where(xx.TIME_SINCE_START==3, (xx['Y_FAIL'].rolling(min_periods=1, window=3).sum()),\n                            np.where(xx.TIME_SINCE_START==4, (xx['Y_FAIL'].rolling(min_periods=1, window=4).sum()),\n                            np.where(xx.TIME_SINCE_START==5, (xx['Y_FAIL'].rolling(min_periods=1, window=5).sum()),\n                            np.where(xx.TIME_SINCE_START==6, (xx['Y_FAIL'].rolling(min_periods=1, window=6).sum()),\n                            np.where(xx.TIME_SINCE_START==7, (xx['Y_FAIL'].rolling(min_periods=1, window=7).sum()),\n                            np.where(xx.TIME_SINCE_START==8, (xx['Y_FAIL'].rolling(min_periods=1, window=8).sum()),\n                            np.where(xx.TIME_SINCE_START==9, (xx['Y_FAIL'].rolling(min_periods=1, window=9).sum()),\n                            np.where((xx.TIME_SINCE_START>=10) & (xx.TIME_SINCE_START<=20), (xx['Y_FAIL'].rolling(min_periods=1, window=10).sum()),\n                            np.where((xx.TIME_SINCE_START>20) & (xx.TIME_SINCE_START<=30), (xx['Y_FAIL'].rolling(min_periods=1, window=20).sum()),\n                            np.where((xx.TIME_SINCE_START>30) & (xx.TIME_SINCE_START<=40), (xx['Y_FAIL'].rolling(min_periods=1, window=30).sum()),\n                            np.where((xx.TIME_SINCE_START>40) & (xx.TIME_SINCE_START<=50), (xx['Y_FAIL'].rolling(min_periods=1, window=40).sum()),\n                            np.where((xx.TIME_SINCE_START>50) & (xx.TIME_SINCE_START<=60), (xx['Y_FAIL'].rolling(min_periods=1, window=50).sum()),\n                            np.where((xx.TIME_SINCE_START>60) & (xx.TIME_SINCE_START<=70), (xx['Y_FAIL'].rolling(min_periods=1, window=60).sum()),\n                            np.where((xx.TIME_SINCE_START>70) & (xx.TIME_SINCE_START<=80), (xx['Y_FAIL'].rolling(min_periods=1, window=70).sum()),\n                            np.where((xx.TIME_SINCE_START>80) & (xx.TIME_SINCE_START<=90), (xx['Y_FAIL'].rolling(min_periods=1, window=80).sum()),\n                            np.where((xx.TIME_SINCE_START>90) & (xx.TIME_SINCE_START<=100), (xx['Y_FAIL'].rolling(min_periods=1, window=90).sum()),\n                            np.where((xx.TIME_SINCE_START>100) & (xx.TIME_SINCE_START<=110), (xx['Y_FAIL'].rolling(min_periods=1, window=100).sum()),\n                            np.where((xx.TIME_SINCE_START>110) & (xx.TIME_SINCE_START<=120), (xx['Y_FAIL'].rolling(min_periods=1, window=110).sum()),\n                            np.where((xx.TIME_SINCE_START==0), 0,\n                            np.where((xx.TIME_SINCE_START>=120), (xx['Y_FAIL'].rolling(min_periods=1, window=120).sum()),999))))))))))))))))))))))"
        },
        {
            "cell_type": "code",
            "execution_count": 80,
            "metadata": {},
            "outputs": [
                {
                    "data": {
                        "text/html": "<div>\n<style scoped>\n    .dataframe tbody tr th:only-of-type {\n        vertical-align: middle;\n    }\n\n    .dataframe tbody tr th {\n        vertical-align: top;\n    }\n\n    .dataframe thead th {\n        text-align: right;\n    }\n</style>\n<table border=\"1\" class=\"dataframe\">\n  <thead>\n    <tr style=\"text-align: right;\">\n      <th></th>\n      <th>Y_FAIL</th>\n    </tr>\n    <tr>\n      <th>Y_FAIL_sumx</th>\n      <th></th>\n    </tr>\n  </thead>\n  <tbody>\n    <tr>\n      <th>0.0</th>\n      <td>61523</td>\n    </tr>\n    <tr>\n      <th>1.0</th>\n      <td>10965</td>\n    </tr>\n    <tr>\n      <th>2.0</th>\n      <td>5720</td>\n    </tr>\n    <tr>\n      <th>3.0</th>\n      <td>3784</td>\n    </tr>\n    <tr>\n      <th>4.0</th>\n      <td>3093</td>\n    </tr>\n    <tr>\n      <th>5.0</th>\n      <td>2167</td>\n    </tr>\n    <tr>\n      <th>6.0</th>\n      <td>1764</td>\n    </tr>\n    <tr>\n      <th>7.0</th>\n      <td>1411</td>\n    </tr>\n    <tr>\n      <th>8.0</th>\n      <td>1195</td>\n    </tr>\n    <tr>\n      <th>9.0</th>\n      <td>1256</td>\n    </tr>\n    <tr>\n      <th>10.0</th>\n      <td>850</td>\n    </tr>\n    <tr>\n      <th>11.0</th>\n      <td>881</td>\n    </tr>\n    <tr>\n      <th>12.0</th>\n      <td>475</td>\n    </tr>\n    <tr>\n      <th>13.0</th>\n      <td>645</td>\n    </tr>\n    <tr>\n      <th>14.0</th>\n      <td>406</td>\n    </tr>\n    <tr>\n      <th>15.0</th>\n      <td>462</td>\n    </tr>\n    <tr>\n      <th>16.0</th>\n      <td>659</td>\n    </tr>\n    <tr>\n      <th>17.0</th>\n      <td>472</td>\n    </tr>\n    <tr>\n      <th>18.0</th>\n      <td>530</td>\n    </tr>\n    <tr>\n      <th>19.0</th>\n      <td>449</td>\n    </tr>\n    <tr>\n      <th>20.0</th>\n      <td>343</td>\n    </tr>\n    <tr>\n      <th>21.0</th>\n      <td>396</td>\n    </tr>\n    <tr>\n      <th>22.0</th>\n      <td>406</td>\n    </tr>\n    <tr>\n      <th>23.0</th>\n      <td>413</td>\n    </tr>\n    <tr>\n      <th>24.0</th>\n      <td>565</td>\n    </tr>\n    <tr>\n      <th>25.0</th>\n      <td>488</td>\n    </tr>\n    <tr>\n      <th>26.0</th>\n      <td>321</td>\n    </tr>\n    <tr>\n      <th>27.0</th>\n      <td>343</td>\n    </tr>\n    <tr>\n      <th>28.0</th>\n      <td>299</td>\n    </tr>\n    <tr>\n      <th>29.0</th>\n      <td>414</td>\n    </tr>\n    <tr>\n      <th>...</th>\n      <td>...</td>\n    </tr>\n    <tr>\n      <th>91.0</th>\n      <td>8</td>\n    </tr>\n    <tr>\n      <th>92.0</th>\n      <td>9</td>\n    </tr>\n    <tr>\n      <th>93.0</th>\n      <td>8</td>\n    </tr>\n    <tr>\n      <th>94.0</th>\n      <td>8</td>\n    </tr>\n    <tr>\n      <th>95.0</th>\n      <td>8</td>\n    </tr>\n    <tr>\n      <th>96.0</th>\n      <td>8</td>\n    </tr>\n    <tr>\n      <th>97.0</th>\n      <td>8</td>\n    </tr>\n    <tr>\n      <th>98.0</th>\n      <td>8</td>\n    </tr>\n    <tr>\n      <th>99.0</th>\n      <td>8</td>\n    </tr>\n    <tr>\n      <th>100.0</th>\n      <td>7</td>\n    </tr>\n    <tr>\n      <th>101.0</th>\n      <td>11</td>\n    </tr>\n    <tr>\n      <th>102.0</th>\n      <td>20</td>\n    </tr>\n    <tr>\n      <th>103.0</th>\n      <td>6</td>\n    </tr>\n    <tr>\n      <th>104.0</th>\n      <td>5</td>\n    </tr>\n    <tr>\n      <th>105.0</th>\n      <td>5</td>\n    </tr>\n    <tr>\n      <th>106.0</th>\n      <td>32</td>\n    </tr>\n    <tr>\n      <th>107.0</th>\n      <td>7</td>\n    </tr>\n    <tr>\n      <th>108.0</th>\n      <td>8</td>\n    </tr>\n    <tr>\n      <th>109.0</th>\n      <td>7</td>\n    </tr>\n    <tr>\n      <th>110.0</th>\n      <td>11</td>\n    </tr>\n    <tr>\n      <th>111.0</th>\n      <td>14</td>\n    </tr>\n    <tr>\n      <th>112.0</th>\n      <td>12</td>\n    </tr>\n    <tr>\n      <th>113.0</th>\n      <td>15</td>\n    </tr>\n    <tr>\n      <th>114.0</th>\n      <td>5</td>\n    </tr>\n    <tr>\n      <th>115.0</th>\n      <td>12</td>\n    </tr>\n    <tr>\n      <th>116.0</th>\n      <td>8</td>\n    </tr>\n    <tr>\n      <th>117.0</th>\n      <td>24</td>\n    </tr>\n    <tr>\n      <th>118.0</th>\n      <td>8</td>\n    </tr>\n    <tr>\n      <th>119.0</th>\n      <td>6</td>\n    </tr>\n    <tr>\n      <th>120.0</th>\n      <td>15</td>\n    </tr>\n  </tbody>\n</table>\n<p>121 rows \u00d7 1 columns</p>\n</div>",
                        "text/plain": "             Y_FAIL\nY_FAIL_sumx        \n0.0           61523\n1.0           10965\n2.0            5720\n3.0            3784\n4.0            3093\n5.0            2167\n6.0            1764\n7.0            1411\n8.0            1195\n9.0            1256\n10.0            850\n11.0            881\n12.0            475\n13.0            645\n14.0            406\n15.0            462\n16.0            659\n17.0            472\n18.0            530\n19.0            449\n20.0            343\n21.0            396\n22.0            406\n23.0            413\n24.0            565\n25.0            488\n26.0            321\n27.0            343\n28.0            299\n29.0            414\n...             ...\n91.0              8\n92.0              9\n93.0              8\n94.0              8\n95.0              8\n96.0              8\n97.0              8\n98.0              8\n99.0              8\n100.0             7\n101.0            11\n102.0            20\n103.0             6\n104.0             5\n105.0             5\n106.0            32\n107.0             7\n108.0             8\n109.0             7\n110.0            11\n111.0            14\n112.0            12\n113.0            15\n114.0             5\n115.0            12\n116.0             8\n117.0            24\n118.0             8\n119.0             6\n120.0            15\n\n[121 rows x 1 columns]"
                    },
                    "execution_count": 80,
                    "metadata": {},
                    "output_type": "execute_result"
                }
            ],
            "source": "#run a frequency to check the logic in the previous step\nxxxx = pd.DataFrame(xx.groupby(['Y_FAIL_sumx'])['Y_FAIL'].agg('count'))\nxxxx"
        },
        {
            "cell_type": "code",
            "execution_count": 81,
            "metadata": {},
            "outputs": [
                {
                    "data": {
                        "text/html": "<div>\n<style scoped>\n    .dataframe tbody tr th:only-of-type {\n        vertical-align: middle;\n    }\n\n    .dataframe tbody tr th {\n        vertical-align: top;\n    }\n\n    .dataframe thead th {\n        text-align: right;\n    }\n</style>\n<table border=\"1\" class=\"dataframe\">\n  <thead>\n    <tr style=\"text-align: right;\">\n      <th></th>\n      <th>index</th>\n      <th>WELL_ID</th>\n      <th>DATE</th>\n      <th>REGION_CLUSTER</th>\n      <th>MAINTENANCE_VENDOR</th>\n      <th>MANUFACTURER</th>\n      <th>WELL_GROUP</th>\n      <th>S15</th>\n      <th>S17</th>\n      <th>S13</th>\n      <th>...</th>\n      <th>WG_2</th>\n      <th>WG_3</th>\n      <th>WG_4</th>\n      <th>WG_5</th>\n      <th>WG_6</th>\n      <th>WG_7</th>\n      <th>WG_8</th>\n      <th>P_FAIL</th>\n      <th>Y_FAIL</th>\n      <th>Y_FAIL_sumx</th>\n    </tr>\n  </thead>\n  <tbody>\n  </tbody>\n</table>\n<p>0 rows \u00d7 93 columns</p>\n</div>",
                        "text/plain": "Empty DataFrame\nColumns: [index, WELL_ID, DATE, REGION_CLUSTER, MAINTENANCE_VENDOR, MANUFACTURER, WELL_GROUP, S15, S17, S13, S5, S16, S19, S18, EQUIPMENT_FAILURE, S8, AGE_OF_EQUIPMENT, TIME_SINCE_START, too_soon, S5_mean, S5_median, S5_max, S5_min, S13_mean, S13_median, S13_max, S13_min, S15_mean, S15_median, S15_max, S15_min, S16_mean, S16_median, S16_max, S16_min, S17_mean, S17_median, S17_max, S17_min, S18_mean, S18_median, S18_max, S18_min, S19_mean, S19_median, S19_max, S19_min, S5_chg, S13_chg, S15_chg, S16_chg, S17_chg, S18_chg, S19_chg, FAILURE_DATE, FAILURE_TARGET, CLUSTER_A, CLUSTER_B, CLUSTER_C, CLUSTER_D, CLUSTER_E, CLUSTER_F, CLUSTER_G, CLUSTER_H, MV_I, MV_J, MV_K, MV_L, MV_M, MV_N, MV_O, MV_P, MN_Q, MN_R, MN_S, MN_T, MN_U, MN_V, MN_W, MN_X, MN_Y, MN_Z, WG_1, WG_2, WG_3, WG_4, WG_5, WG_6, WG_7, WG_8, P_FAIL, Y_FAIL, Y_FAIL_sumx]\nIndex: []\n\n[0 rows x 93 columns]"
                    },
                    "execution_count": 81,
                    "metadata": {},
                    "output_type": "execute_result"
                }
            ],
            "source": "#make sure you have no records coded with 999\nhhh=xx[xx['Y_FAIL_sumx'] == 999]\nhhh"
        },
        {
            "cell_type": "code",
            "execution_count": 82,
            "metadata": {},
            "outputs": [],
            "source": "# if a signal has occured in the last 120 days, the signal is 0.\nxx['Y_FAILZ']=np.where((xx.Y_FAIL_sumx>1), 0, xx.Y_FAIL)"
        },
        {
            "cell_type": "markdown",
            "metadata": {},
            "source": "Note that by applying this business rule the number of signals decreases dramatically."
        },
        {
            "cell_type": "code",
            "execution_count": 83,
            "metadata": {
                "scrolled": true
            },
            "outputs": [
                {
                    "name": "stdout",
                    "output_type": "stream",
                    "text": "EQUIPMENT_FAILURE     0.0  1.0\nY_FAILZ                       \n0                  106355  142\n1                     225    4\n"
                }
            ],
            "source": "print(pd.crosstab(xx.Y_FAILZ, xx.EQUIPMENT_FAILURE, dropna=False))"
        },
        {
            "cell_type": "markdown",
            "metadata": {},
            "source": "Next we will create a couple of new fields.  The first is a unique id for each signal (SIGNAL_ID).  "
        },
        {
            "cell_type": "code",
            "execution_count": 84,
            "metadata": {},
            "outputs": [],
            "source": "#sort the data by well_id and date.\n\nxx=xx.sort_values(by=['WELL_ID','DATE'], ascending=[True, True])\n\nxx['bootie']=1"
        },
        {
            "cell_type": "code",
            "execution_count": 85,
            "metadata": {
                "scrolled": true
            },
            "outputs": [],
            "source": "#create signal id with the cumsum function.\nxx['SIGNAL_ID'] = xx['Y_FAILZ'].cumsum()\n\n\n"
        },
        {
            "cell_type": "markdown",
            "metadata": {},
            "source": "Now we will pull the records with a signal into a separate data frame.\nHere we will create a new field that identifies the date of each signal (SIGNAL_DATE).\nAlso, we will identify the WELL_ID Associated with each signal (ID_OF_SIGNAL)\n"
        },
        {
            "cell_type": "code",
            "execution_count": 86,
            "metadata": {
                "scrolled": true
            },
            "outputs": [],
            "source": "\n\ndf_signals=xx[xx['Y_FAILZ'] == 1]\ndf_signal_date=df_signals[['SIGNAL_ID','DATE','WELL_ID']]\ndf_signal_date=df_signal_date.rename(index=str, columns={\"DATE\": \"SIGNAL_DATE\"})\ndf_signal_date=df_signal_date.rename(index=str, columns={\"WELL_ID\": \"ID_OF_SIGNAL\"})\n\n\n"
        },
        {
            "cell_type": "markdown",
            "metadata": {},
            "source": "We have a total of 229 signals.  Now each has a unique id.  Note that is still too many.  Below we will apply more heuristics to decrease the number of signals."
        },
        {
            "cell_type": "code",
            "execution_count": 87,
            "metadata": {},
            "outputs": [
                {
                    "data": {
                        "text/plain": "(229, 3)"
                    },
                    "execution_count": 87,
                    "metadata": {},
                    "output_type": "execute_result"
                }
            ],
            "source": "df_signal_date.shape"
        },
        {
            "cell_type": "markdown",
            "metadata": {},
            "source": "Append the new fields to the working data frame."
        },
        {
            "cell_type": "code",
            "execution_count": 88,
            "metadata": {
                "scrolled": true
            },
            "outputs": [],
            "source": "xx =xx.merge(df_signal_date, on=['SIGNAL_ID'], how='outer')\n"
        },
        {
            "cell_type": "markdown",
            "metadata": {},
            "source": "Keep the fields we need to use going forward."
        },
        {
            "cell_type": "code",
            "execution_count": 89,
            "metadata": {
                "scrolled": true
            },
            "outputs": [],
            "source": "xx=xx[['DATE', 'WELL_ID', 'EQUIPMENT_FAILURE', 'FAILURE_TARGET','FAILURE_DATE',\n       'P_FAIL', 'Y_FAILZ','SIGNAL_ID',\n       'SIGNAL_DATE','ID_OF_SIGNAL']]\n\n\n"
        },
        {
            "cell_type": "markdown",
            "metadata": {},
            "source": " Create a field called \"Warning\" that indicates the time from signal to failure."
        },
        {
            "cell_type": "code",
            "execution_count": 90,
            "metadata": {
                "scrolled": true
            },
            "outputs": [],
            "source": "\nxx['C'] = xx['FAILURE_DATE'] - xx['SIGNAL_DATE']\nxx['WARNING'] = xx['C'] / np.timedelta64(1, 'D')\n"
        },
        {
            "cell_type": "code",
            "execution_count": 91,
            "metadata": {},
            "outputs": [],
            "source": "#Replace nan with 9999.  \n\nxx['WARNING'].fillna(9999, inplace=True)"
        },
        {
            "cell_type": "markdown",
            "metadata": {},
            "source": "##  9.0 Define a True Positive, True Negative, False Positive and False Negative <a id=\"tp\"></a>"
        },
        {
            "cell_type": "markdown",
            "metadata": {},
            "source": "\nA true positive occurs if and only if the machine fails and there was a signal within the last 270 days (nine months).   Also, we have to ensure that the signal id belongs to the Well ID.  Note that this prohibits a signal from another machine being applied to the machine in question.\n\n\nA false negative occurs if and only if the machine fails and it is not a true positive.\n\n\n\nA False Positive occurs if there is a failure signal and a failure does not  occur in the next 270 days.  Also, if a signal occurs after the failure, this is a false positive.  We also have to ensure that the signal id belongs to the Well ID.    Note that this prohibits a signal from another machine being applied to the machine in question.\n\nIf an observation is not a False Positive, a False Negative or a True Positive it is a True Negative.\n"
        },
        {
            "cell_type": "code",
            "execution_count": 92,
            "metadata": {},
            "outputs": [],
            "source": "# define a true positive\nxx['TRUE_POSITIVE'] = np.where(((xx.EQUIPMENT_FAILURE == 1) & (xx.WARNING<=270) &(xx.WARNING>=0) & (xx.ID_OF_SIGNAL==xx.WELL_ID)), 1, 0)"
        },
        {
            "cell_type": "code",
            "execution_count": 93,
            "metadata": {},
            "outputs": [],
            "source": "# define a false negative\nxx['FALSE_NEGATIVE'] = np.where((xx.TRUE_POSITIVE==0) & (xx.EQUIPMENT_FAILURE==1), 1, 0)"
        },
        {
            "cell_type": "code",
            "execution_count": 94,
            "metadata": {
                "scrolled": true
            },
            "outputs": [],
            "source": "# define a false positive\nxx['BAD_S']=np.where((xx.WARNING<0) | (xx.WARNING>=270), 1, 0)\n\nxx['FALSE_POSITIVE'] = np.where(((xx.Y_FAILZ == 1) & (xx.BAD_S==1) & (xx.ID_OF_SIGNAL==xx.WELL_ID)), 1, 0)"
        },
        {
            "cell_type": "code",
            "execution_count": 95,
            "metadata": {
                "scrolled": true
            },
            "outputs": [],
            "source": "xx['bootie']=1"
        },
        {
            "cell_type": "code",
            "execution_count": 96,
            "metadata": {
                "scrolled": true
            },
            "outputs": [],
            "source": "xx['MODELING_GROUP']='TRAINING'"
        },
        {
            "cell_type": "markdown",
            "metadata": {
                "scrolled": false
            },
            "source": "Create the final Cross-Tab"
        },
        {
            "cell_type": "code",
            "execution_count": 97,
            "metadata": {
                "scrolled": true
            },
            "outputs": [],
            "source": "xx['CATEGORY']=np.where((xx.FALSE_POSITIVE==1),'FALSE_POSITIVE',\n                                      (np.where((xx.FALSE_NEGATIVE==1),'FALSE_NEGATIVE',\n                                                (np.where((xx.TRUE_POSITIVE==1),'TRUE_POSITIVE','TRUE_NEGATIVE')))))"
        },
        {
            "cell_type": "code",
            "execution_count": 98,
            "metadata": {
                "scrolled": true
            },
            "outputs": [
                {
                    "data": {
                        "text/html": "<div>\n<style scoped>\n    .dataframe tbody tr th:only-of-type {\n        vertical-align: middle;\n    }\n\n    .dataframe tbody tr th {\n        vertical-align: top;\n    }\n\n    .dataframe thead tr th {\n        text-align: left;\n    }\n\n    .dataframe thead tr:last-of-type th {\n        text-align: right;\n    }\n</style>\n<table border=\"1\" class=\"dataframe\">\n  <thead>\n    <tr>\n      <th></th>\n      <th colspan=\"4\" halign=\"left\">bootie</th>\n    </tr>\n    <tr>\n      <th>CATEGORY</th>\n      <th>FALSE_NEGATIVE</th>\n      <th>FALSE_POSITIVE</th>\n      <th>TRUE_NEGATIVE</th>\n      <th>TRUE_POSITIVE</th>\n    </tr>\n    <tr>\n      <th>MODELING_GROUP</th>\n      <th></th>\n      <th></th>\n      <th></th>\n      <th></th>\n    </tr>\n  </thead>\n  <tbody>\n    <tr>\n      <th>TRAINING</th>\n      <td>22</td>\n      <td>94</td>\n      <td>106486</td>\n      <td>124</td>\n    </tr>\n  </tbody>\n</table>\n</div>",
                        "text/plain": "                       bootie                                           \nCATEGORY       FALSE_NEGATIVE FALSE_POSITIVE TRUE_NEGATIVE TRUE_POSITIVE\nMODELING_GROUP                                                          \nTRAINING                   22             94        106486           124"
                    },
                    "execution_count": 98,
                    "metadata": {},
                    "output_type": "execute_result"
                }
            ],
            "source": "table = pd.pivot_table(xx, values=['bootie'], index=['MODELING_GROUP'],columns=['CATEGORY'], aggfunc=np.sum)\ntable"
        },
        {
            "cell_type": "markdown",
            "metadata": {},
            "source": "Using the previously described definitions of a false positive, false negative, true positive and true negative in the training data set there are:\n    \n    22 False Negatives\n    94 False Positives\n    106,486 True Negatives and\n    124 True Postives.\n    \n"
        },
        {
            "cell_type": "markdown",
            "metadata": {},
            "source": "## 10.0 Apply Model and Heuristics the Testing and Validation Data Sets. <a id=\"apply\"></a>"
        },
        {
            "cell_type": "markdown",
            "metadata": {},
            "source": "Predict the probability of failure for all records."
        },
        {
            "cell_type": "code",
            "execution_count": 99,
            "metadata": {},
            "outputs": [],
            "source": "df_total['P_FAIL']= xgb0.predict_proba(df_total[features])[:,1];"
        },
        {
            "cell_type": "markdown",
            "metadata": {},
            "source": "Create a predicted failure indicator based on a cut-off of .67."
        },
        {
            "cell_type": "code",
            "execution_count": 100,
            "metadata": {},
            "outputs": [],
            "source": "df_total['Y_FAIL'] = np.where(((df_total.P_FAIL <= .67)), 0, 1)"
        },
        {
            "cell_type": "code",
            "execution_count": 101,
            "metadata": {},
            "outputs": [],
            "source": "yy=df_total\n\n\n"
        },
        {
            "cell_type": "code",
            "execution_count": 102,
            "metadata": {},
            "outputs": [],
            "source": "yy=yy.sort_values(by=['WELL_ID','DATE'], ascending=[True, True])"
        },
        {
            "cell_type": "markdown",
            "metadata": {},
            "source": "Ensure that failure indicator occurs only once every 120 days."
        },
        {
            "cell_type": "code",
            "execution_count": 103,
            "metadata": {},
            "outputs": [],
            "source": "\n# sum of the number of predicted failures over the last 120 days.  If there are less than 120 days, vary the sum to reflect the truncated number of days in history.\n\n\nyy['Y_FAIL_sumx'] =np.where(yy.TIME_SINCE_START==1, (yy['Y_FAIL'].rolling(min_periods=1, window=1).sum()),\n                            np.where(yy.TIME_SINCE_START==2, (yy['Y_FAIL'].rolling(min_periods=1, window=2).sum()),\n                            np.where(yy.TIME_SINCE_START==3, (yy['Y_FAIL'].rolling(min_periods=1, window=3).sum()),\n                            np.where(yy.TIME_SINCE_START==4, (yy['Y_FAIL'].rolling(min_periods=1, window=4).sum()),\n                            np.where(yy.TIME_SINCE_START==5, (yy['Y_FAIL'].rolling(min_periods=1, window=5).sum()),\n                            np.where(yy.TIME_SINCE_START==6, (yy['Y_FAIL'].rolling(min_periods=1, window=6).sum()),\n                            np.where(yy.TIME_SINCE_START==7, (yy['Y_FAIL'].rolling(min_periods=1, window=7).sum()),\n                            np.where(yy.TIME_SINCE_START==8, (yy['Y_FAIL'].rolling(min_periods=1, window=8).sum()),\n                            np.where(yy.TIME_SINCE_START==9, (yy['Y_FAIL'].rolling(min_periods=1, window=9).sum()),\n                            np.where((yy.TIME_SINCE_START>=10) & (yy.TIME_SINCE_START<=20), (yy['Y_FAIL'].rolling(min_periods=1, window=10).sum()),\n                            np.where((yy.TIME_SINCE_START>20) & (yy.TIME_SINCE_START<=30), (yy['Y_FAIL'].rolling(min_periods=1, window=20).sum()),\n                            np.where((yy.TIME_SINCE_START>30) & (yy.TIME_SINCE_START<=40), (yy['Y_FAIL'].rolling(min_periods=1, window=30).sum()),\n                            np.where((yy.TIME_SINCE_START>40) & (yy.TIME_SINCE_START<=50), (yy['Y_FAIL'].rolling(min_periods=1, window=40).sum()),\n                            np.where((yy.TIME_SINCE_START>50) & (yy.TIME_SINCE_START<=60), (yy['Y_FAIL'].rolling(min_periods=1, window=50).sum()),\n                            np.where((yy.TIME_SINCE_START>60) & (yy.TIME_SINCE_START<=70), (yy['Y_FAIL'].rolling(min_periods=1, window=60).sum()),\n                            np.where((yy.TIME_SINCE_START>70) & (yy.TIME_SINCE_START<=80), (yy['Y_FAIL'].rolling(min_periods=1, window=70).sum()),\n                            np.where((yy.TIME_SINCE_START>80) & (yy.TIME_SINCE_START<=90), (yy['Y_FAIL'].rolling(min_periods=1, window=80).sum()),\n                            np.where((yy.TIME_SINCE_START>90) & (yy.TIME_SINCE_START<=100), (yy['Y_FAIL'].rolling(min_periods=1, window=90).sum()),\n                            np.where((yy.TIME_SINCE_START>100) & (yy.TIME_SINCE_START<=110), (yy['Y_FAIL'].rolling(min_periods=1, window=100).sum()),\n                            np.where((yy.TIME_SINCE_START>110) & (yy.TIME_SINCE_START<=120), (yy['Y_FAIL'].rolling(min_periods=1, window=110).sum()),\n                            np.where((yy.TIME_SINCE_START==0), 0,\n                            np.where((yy.TIME_SINCE_START>=120), (yy['Y_FAIL'].rolling(min_periods=1, window=120).sum()),999))))))))))))))))))))))"
        },
        {
            "cell_type": "code",
            "execution_count": 104,
            "metadata": {},
            "outputs": [],
            "source": "yy['Y_FAILZ']=np.where((yy.Y_FAIL_sumx>1), 0, yy.Y_FAIL)"
        },
        {
            "cell_type": "markdown",
            "metadata": {},
            "source": "Create the WARNING Field"
        },
        {
            "cell_type": "code",
            "execution_count": 105,
            "metadata": {},
            "outputs": [],
            "source": "yy['bootie']=1"
        },
        {
            "cell_type": "code",
            "execution_count": 106,
            "metadata": {},
            "outputs": [],
            "source": "yy=yy.sort_values(by=['WELL_ID','DATE'], ascending=[True, True])"
        },
        {
            "cell_type": "code",
            "execution_count": 107,
            "metadata": {},
            "outputs": [],
            "source": "#create a signal id\nyy['SIGNAL_ID'] = yy['Y_FAILZ'].cumsum()\n\n"
        },
        {
            "cell_type": "code",
            "execution_count": 108,
            "metadata": {},
            "outputs": [],
            "source": "#create the signal date and ID_OF_SIGNAL\n\nyy_signals=yy[yy['Y_FAILZ'] == 1]\nyy_signal_date=yy_signals[['SIGNAL_ID','DATE','WELL_ID']]\nyy_signal_date=yy_signal_date.rename(index=str, columns={\"DATE\": \"SIGNAL_DATE\"})\nyy_signal_date=yy_signal_date.rename(index=str, columns={\"WELL_ID\": \"ID_OF_SIGNAL\"})"
        },
        {
            "cell_type": "code",
            "execution_count": 109,
            "metadata": {},
            "outputs": [],
            "source": "#merge the two data frames back into one.\n\nyy =yy.merge(yy_signal_date, on=['SIGNAL_ID'], how='outer')\n"
        },
        {
            "cell_type": "code",
            "execution_count": 110,
            "metadata": {},
            "outputs": [],
            "source": "#Keep on the fields we need\nyy=yy[['DATE', 'WELL_ID', 'EQUIPMENT_FAILURE', 'FAILURE_TARGET','FAILURE_DATE','MODELING_GROUP',\n       'P_FAIL', 'Y_FAILZ','SIGNAL_ID',\n       'SIGNAL_DATE','ID_OF_SIGNAL']]"
        },
        {
            "cell_type": "code",
            "execution_count": 111,
            "metadata": {},
            "outputs": [],
            "source": "# Calculate the warning time between each failure date and signal date.\nyy['C'] = yy['FAILURE_DATE'] - yy['SIGNAL_DATE']\nyy['WARNING'] = yy['C'] / np.timedelta64(1, 'D')"
        },
        {
            "cell_type": "markdown",
            "metadata": {},
            "source": "Define True Positives, True Negatives, False Positives and False Negatives."
        },
        {
            "cell_type": "code",
            "execution_count": 112,
            "metadata": {},
            "outputs": [],
            "source": "yy['WARNING'].fillna(9999, inplace=True)\n"
        },
        {
            "cell_type": "code",
            "execution_count": 113,
            "metadata": {},
            "outputs": [],
            "source": "# define a true positive\nyy['TRUE_POSITIVE'] = np.where(((yy.EQUIPMENT_FAILURE == 1) & (yy.WARNING<=270) &(yy.WARNING>=0) & (yy.ID_OF_SIGNAL==yy.WELL_ID)), 1, 0)"
        },
        {
            "cell_type": "code",
            "execution_count": 114,
            "metadata": {},
            "outputs": [],
            "source": "# define a false negative\nyy['FALSE_NEGATIVE'] = np.where((yy.TRUE_POSITIVE==0) & (yy.EQUIPMENT_FAILURE==1), 1, 0)"
        },
        {
            "cell_type": "code",
            "execution_count": 115,
            "metadata": {},
            "outputs": [],
            "source": "# define a false positive\nyy['BAD_S']=np.where((yy.WARNING<0) | (yy.WARNING>=270), 1, 0)\n\nyy['FALSE_POSITIVE'] = np.where(((yy.Y_FAILZ == 1) & (yy.BAD_S==1) & (yy.ID_OF_SIGNAL==yy.WELL_ID)), 1, 0)"
        },
        {
            "cell_type": "code",
            "execution_count": 116,
            "metadata": {},
            "outputs": [],
            "source": "yy['bootie']=1"
        },
        {
            "cell_type": "code",
            "execution_count": 117,
            "metadata": {},
            "outputs": [],
            "source": "yy['CATEGORY']=np.where((yy.FALSE_POSITIVE==1),'FALSE_POSITIVE',\n                                      (np.where((yy.FALSE_NEGATIVE==1),'FALSE_NEGATIVE',\n                                                (np.where((yy.TRUE_POSITIVE==1),'TRUE_POSITIVE','TRUE_NEGATIVE')))))"
        },
        {
            "cell_type": "markdown",
            "metadata": {},
            "source": "Define metrics for the Testing, Training and Validation Data sets."
        },
        {
            "cell_type": "code",
            "execution_count": 118,
            "metadata": {},
            "outputs": [
                {
                    "data": {
                        "text/html": "<div>\n<style scoped>\n    .dataframe tbody tr th:only-of-type {\n        vertical-align: middle;\n    }\n\n    .dataframe tbody tr th {\n        vertical-align: top;\n    }\n\n    .dataframe thead tr th {\n        text-align: left;\n    }\n\n    .dataframe thead tr:last-of-type th {\n        text-align: right;\n    }\n</style>\n<table border=\"1\" class=\"dataframe\">\n  <thead>\n    <tr>\n      <th></th>\n      <th colspan=\"4\" halign=\"left\">bootie</th>\n    </tr>\n    <tr>\n      <th>CATEGORY</th>\n      <th>FALSE_NEGATIVE</th>\n      <th>FALSE_POSITIVE</th>\n      <th>TRUE_NEGATIVE</th>\n      <th>TRUE_POSITIVE</th>\n    </tr>\n    <tr>\n      <th>MODELING_GROUP</th>\n      <th></th>\n      <th></th>\n      <th></th>\n      <th></th>\n    </tr>\n  </thead>\n  <tbody>\n    <tr>\n      <th>TESTING</th>\n      <td>64</td>\n      <td>132</td>\n      <td>108638</td>\n      <td>85</td>\n    </tr>\n    <tr>\n      <th>TRAINING</th>\n      <td>22</td>\n      <td>94</td>\n      <td>106486</td>\n      <td>124</td>\n    </tr>\n    <tr>\n      <th>VALIDATION</th>\n      <td>53</td>\n      <td>111</td>\n      <td>91869</td>\n      <td>73</td>\n    </tr>\n  </tbody>\n</table>\n</div>",
                        "text/plain": "                       bootie                                           \nCATEGORY       FALSE_NEGATIVE FALSE_POSITIVE TRUE_NEGATIVE TRUE_POSITIVE\nMODELING_GROUP                                                          \nTESTING                    64            132        108638            85\nTRAINING                   22             94        106486           124\nVALIDATION                 53            111         91869            73"
                    },
                    "execution_count": 118,
                    "metadata": {},
                    "output_type": "execute_result"
                }
            ],
            "source": "table = pd.pivot_table(yy, values=['bootie'], index=['MODELING_GROUP'],columns=['CATEGORY'], aggfunc=np.sum)\ntable"
        },
        {
            "cell_type": "markdown",
            "metadata": {},
            "source": "Calculate the total cost associated with each false positive, false negative and true positive.  Note that there is no cost with a true negative because no action is taken."
        },
        {
            "cell_type": "code",
            "execution_count": 119,
            "metadata": {},
            "outputs": [],
            "source": "yy['TOTAL_COST']=yy.FALSE_NEGATIVE*30000+yy.FALSE_POSITIVE*7500+yy.TRUE_POSITIVE*1500"
        },
        {
            "cell_type": "markdown",
            "metadata": {},
            "source": "Aggregate the costs by modeling group"
        },
        {
            "cell_type": "code",
            "execution_count": 120,
            "metadata": {},
            "outputs": [
                {
                    "data": {
                        "text/html": "<div>\n<style scoped>\n    .dataframe tbody tr th:only-of-type {\n        vertical-align: middle;\n    }\n\n    .dataframe tbody tr th {\n        vertical-align: top;\n    }\n\n    .dataframe thead th {\n        text-align: right;\n    }\n</style>\n<table border=\"1\" class=\"dataframe\">\n  <thead>\n    <tr style=\"text-align: right;\">\n      <th></th>\n      <th>TOTAL_COST</th>\n    </tr>\n    <tr>\n      <th>MODELING_GROUP</th>\n      <th></th>\n    </tr>\n  </thead>\n  <tbody>\n    <tr>\n      <th>TESTING</th>\n      <td>3037500</td>\n    </tr>\n    <tr>\n      <th>TRAINING</th>\n      <td>1551000</td>\n    </tr>\n    <tr>\n      <th>VALIDATION</th>\n      <td>2532000</td>\n    </tr>\n  </tbody>\n</table>\n</div>",
                        "text/plain": "                TOTAL_COST\nMODELING_GROUP            \nTESTING            3037500\nTRAINING           1551000\nVALIDATION         2532000"
                    },
                    "execution_count": 120,
                    "metadata": {},
                    "output_type": "execute_result"
                }
            ],
            "source": "\ntable = pd.pivot_table(yy, values=['TOTAL_COST'],index=['MODELING_GROUP'], aggfunc=np.sum)\ntable"
        },
        {
            "cell_type": "markdown",
            "metadata": {},
            "source": "Calculate the number of machines per modelling group"
        },
        {
            "cell_type": "code",
            "execution_count": 121,
            "metadata": {},
            "outputs": [],
            "source": "wells=yy[['WELL_ID','MODELING_GROUP']]"
        },
        {
            "cell_type": "code",
            "execution_count": 122,
            "metadata": {},
            "outputs": [
                {
                    "data": {
                        "text/plain": "(421, 2)"
                    },
                    "execution_count": 122,
                    "metadata": {},
                    "output_type": "execute_result"
                }
            ],
            "source": "wells=wells.drop_duplicates(subset='WELL_ID')\n\nwells.shape"
        },
        {
            "cell_type": "code",
            "execution_count": 123,
            "metadata": {},
            "outputs": [],
            "source": "wells = wells.groupby(['MODELING_GROUP'])['WELL_ID'].count()\nwells=pd.DataFrame(wells)"
        },
        {
            "cell_type": "markdown",
            "metadata": {},
            "source": "Merge the total costs and total machines into one dataframe"
        },
        {
            "cell_type": "code",
            "execution_count": 124,
            "metadata": {},
            "outputs": [],
            "source": "tc = yy.groupby(['MODELING_GROUP'])['TOTAL_COST'].sum()\ntc=pd.DataFrame(tc)\n"
        },
        {
            "cell_type": "markdown",
            "metadata": {},
            "source": "Calculate the average cost per machine"
        },
        {
            "cell_type": "code",
            "execution_count": 125,
            "metadata": {},
            "outputs": [],
            "source": "ac =tc.merge(wells, on=['MODELING_GROUP'], how='inner')\n"
        },
        {
            "cell_type": "code",
            "execution_count": 126,
            "metadata": {},
            "outputs": [],
            "source": "ac['AVERAGE_COST']=ac.TOTAL_COST/ac.WELL_ID"
        },
        {
            "cell_type": "code",
            "execution_count": 127,
            "metadata": {},
            "outputs": [
                {
                    "data": {
                        "text/html": "<div>\n<style scoped>\n    .dataframe tbody tr th:only-of-type {\n        vertical-align: middle;\n    }\n\n    .dataframe tbody tr th {\n        vertical-align: top;\n    }\n\n    .dataframe thead th {\n        text-align: right;\n    }\n</style>\n<table border=\"1\" class=\"dataframe\">\n  <thead>\n    <tr style=\"text-align: right;\">\n      <th></th>\n      <th>TOTAL_COST</th>\n      <th>WELL_ID</th>\n      <th>AVERAGE_COST</th>\n    </tr>\n    <tr>\n      <th>MODELING_GROUP</th>\n      <th></th>\n      <th></th>\n      <th></th>\n    </tr>\n  </thead>\n  <tbody>\n    <tr>\n      <th>TESTING</th>\n      <td>3037500</td>\n      <td>149</td>\n      <td>20385.906040</td>\n    </tr>\n    <tr>\n      <th>TRAINING</th>\n      <td>1551000</td>\n      <td>146</td>\n      <td>10623.287671</td>\n    </tr>\n    <tr>\n      <th>VALIDATION</th>\n      <td>2532000</td>\n      <td>126</td>\n      <td>20095.238095</td>\n    </tr>\n  </tbody>\n</table>\n</div>",
                        "text/plain": "                TOTAL_COST  WELL_ID  AVERAGE_COST\nMODELING_GROUP                                   \nTESTING            3037500      149  20385.906040\nTRAINING           1551000      146  10623.287671\nVALIDATION         2532000      126  20095.238095"
                    },
                    "execution_count": 127,
                    "metadata": {},
                    "output_type": "execute_result"
                }
            ],
            "source": "ac"
        },
        {
            "cell_type": "markdown",
            "metadata": {},
            "source": "##  11.0 Conclusions <a id=\"conc\"></a>"
        },
        {
            "cell_type": "markdown",
            "metadata": {},
            "source": "It currently costs the firm about 28,000 dollars per machine in the current data set.  By deploying a PM solution, we can lower those costs to between 20,000 and 21,000 dollars.  This equates to a savings of about 7,000 per machine.  For all 419 machine, this is a total savings of about 2,900,000 dollars. \n\n\n\nNot too shabby.\n\n\nOne final note.  There are obviously many judgments I made that work for this example, but may not work for you.  Unfortunately, there is no \"one size fits all\" solution for any data science problem.   \n\n\nNonetheless, this exercise should give you a good reference as you approach these types of problems in the future. \n\nAs far as next steps, I would encourage you to see if you can improve the solution by optimizing the model.  Maybe incorporate some hyper-parameter optimization or even try a different model.  Let me know how it turns out!\n\n\n"
        },
        {
            "cell_type": "markdown",
            "metadata": {},
            "source": "### Author\n\n\n"
        },
        {
            "cell_type": "markdown",
            "metadata": {},
            "source": "\n**Shad Griffin**, is a Data Scientist at the IBM Global Solution Center in Dallas, Texas"
        },
        {
            "cell_type": "markdown",
            "metadata": {},
            "source": "<hr>\nCopyright &copy; IBM Corp. 2020. This notebook and its source code are released under the terms of the MIT License.\n\n"
        },
        {
            "cell_type": "code",
            "execution_count": null,
            "metadata": {},
            "outputs": [],
            "source": ""
        }
    ],
    "metadata": {
        "kernelspec": {
            "display_name": "Python 3.6",
            "language": "python",
            "name": "python3"
        },
        "language_info": {
            "codemirror_mode": {
                "name": "ipython",
                "version": 3
            },
            "file_extension": ".py",
            "mimetype": "text/x-python",
            "name": "python",
            "nbconvert_exporter": "python",
            "pygments_lexer": "ipython3",
            "version": "3.6.9"
        }
    },
    "nbformat": 4,
    "nbformat_minor": 1
}